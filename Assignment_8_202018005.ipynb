{
  "nbformat": 4,
  "nbformat_minor": 0,
  "metadata": {
    "colab": {
      "name": "Assignment_8_202018005.ipynb",
      "provenance": [],
      "collapsed_sections": [
        "HksI5Nt-PUKk"
      ]
    },
    "kernelspec": {
      "name": "python3",
      "display_name": "Python 3"
    },
    "language_info": {
      "name": "python"
    }
  },
  "cells": [
    {
      "cell_type": "code",
      "metadata": {
        "cellView": "form",
        "id": "ScRGePEmOXbs"
      },
      "source": [
        "#@title\n",
        "mkdir A8\n",
        "#@title\n",
        "mv /content/drive/MyDrive/Colab\\ Notebooks/Assignment_8_IR.ipynb A8\n",
        "#@title\n",
        "cd A8\n",
        "#@title\n",
        "ls\n",
        "#@title\n",
        "mkdir data\n",
        "#@title\n",
        "cd data\n",
        "#@title\n",
        "!gdown https://drive.google.com/uc?id=1q0ZimHCtMlhftljfVuy0i-wcgPnDUYjl\n",
        "#@title\n",
        "!unzip fake-news.zip"
      ],
      "execution_count": 2,
      "outputs": []
    },
    {
      "cell_type": "markdown",
      "metadata": {
        "id": "fdS_2i2uPuvg"
      },
      "source": [
        "# codes"
      ]
    },
    {
      "cell_type": "code",
      "metadata": {
        "colab": {
          "base_uri": "https://localhost:8080/"
        },
        "id": "Zomav4EvMyG6",
        "outputId": "3425b3c4-9e7c-462c-bf11-74f16da85b39"
      },
      "source": [
        "cd /content/drive/MyDrive/workspace/IR/A8"
      ],
      "execution_count": 2,
      "outputs": [
        {
          "output_type": "stream",
          "text": [
            "/content/drive/MyDrive/workspace/IR/A8\n"
          ],
          "name": "stdout"
        }
      ]
    },
    {
      "cell_type": "code",
      "metadata": {
        "id": "tSowCfJfPE18"
      },
      "source": [
        "import pandas as pd\n",
        "import numpy as np"
      ],
      "execution_count": 3,
      "outputs": []
    },
    {
      "cell_type": "code",
      "metadata": {
        "id": "uNYOMnQSP2Vf"
      },
      "source": [
        "df = pd.read_csv('data/train.csv')"
      ],
      "execution_count": 36,
      "outputs": []
    },
    {
      "cell_type": "code",
      "metadata": {
        "id": "D1oK9NG7s0ru"
      },
      "source": [
        "dftest = pd.read_csv('data/test.csv')"
      ],
      "execution_count": 37,
      "outputs": []
    },
    {
      "cell_type": "code",
      "metadata": {
        "colab": {
          "base_uri": "https://localhost:8080/",
          "height": 206
        },
        "id": "vbZvZ5wqQIL2",
        "outputId": "c21f15ac-6343-4b36-911d-b914f32d1188"
      },
      "source": [
        "df.head()"
      ],
      "execution_count": 38,
      "outputs": [
        {
          "output_type": "execute_result",
          "data": {
            "text/html": [
              "<div>\n",
              "<style scoped>\n",
              "    .dataframe tbody tr th:only-of-type {\n",
              "        vertical-align: middle;\n",
              "    }\n",
              "\n",
              "    .dataframe tbody tr th {\n",
              "        vertical-align: top;\n",
              "    }\n",
              "\n",
              "    .dataframe thead th {\n",
              "        text-align: right;\n",
              "    }\n",
              "</style>\n",
              "<table border=\"1\" class=\"dataframe\">\n",
              "  <thead>\n",
              "    <tr style=\"text-align: right;\">\n",
              "      <th></th>\n",
              "      <th>id</th>\n",
              "      <th>title</th>\n",
              "      <th>author</th>\n",
              "      <th>text</th>\n",
              "      <th>label</th>\n",
              "    </tr>\n",
              "  </thead>\n",
              "  <tbody>\n",
              "    <tr>\n",
              "      <th>0</th>\n",
              "      <td>0</td>\n",
              "      <td>House Dem Aide: We Didn’t Even See Comey’s Let...</td>\n",
              "      <td>Darrell Lucus</td>\n",
              "      <td>House Dem Aide: We Didn’t Even See Comey’s Let...</td>\n",
              "      <td>1</td>\n",
              "    </tr>\n",
              "    <tr>\n",
              "      <th>1</th>\n",
              "      <td>1</td>\n",
              "      <td>FLYNN: Hillary Clinton, Big Woman on Campus - ...</td>\n",
              "      <td>Daniel J. Flynn</td>\n",
              "      <td>Ever get the feeling your life circles the rou...</td>\n",
              "      <td>0</td>\n",
              "    </tr>\n",
              "    <tr>\n",
              "      <th>2</th>\n",
              "      <td>2</td>\n",
              "      <td>Why the Truth Might Get You Fired</td>\n",
              "      <td>Consortiumnews.com</td>\n",
              "      <td>Why the Truth Might Get You Fired October 29, ...</td>\n",
              "      <td>1</td>\n",
              "    </tr>\n",
              "    <tr>\n",
              "      <th>3</th>\n",
              "      <td>3</td>\n",
              "      <td>15 Civilians Killed In Single US Airstrike Hav...</td>\n",
              "      <td>Jessica Purkiss</td>\n",
              "      <td>Videos 15 Civilians Killed In Single US Airstr...</td>\n",
              "      <td>1</td>\n",
              "    </tr>\n",
              "    <tr>\n",
              "      <th>4</th>\n",
              "      <td>4</td>\n",
              "      <td>Iranian woman jailed for fictional unpublished...</td>\n",
              "      <td>Howard Portnoy</td>\n",
              "      <td>Print \\nAn Iranian woman has been sentenced to...</td>\n",
              "      <td>1</td>\n",
              "    </tr>\n",
              "  </tbody>\n",
              "</table>\n",
              "</div>"
            ],
            "text/plain": [
              "   id  ... label\n",
              "0   0  ...     1\n",
              "1   1  ...     0\n",
              "2   2  ...     1\n",
              "3   3  ...     1\n",
              "4   4  ...     1\n",
              "\n",
              "[5 rows x 5 columns]"
            ]
          },
          "metadata": {
            "tags": []
          },
          "execution_count": 38
        }
      ]
    },
    {
      "cell_type": "code",
      "metadata": {
        "colab": {
          "base_uri": "https://localhost:8080/"
        },
        "id": "fkHlBBI8WVot",
        "outputId": "2bb40855-c95c-4d82-85e4-27063470258e"
      },
      "source": [
        "df.shape"
      ],
      "execution_count": 6,
      "outputs": [
        {
          "output_type": "execute_result",
          "data": {
            "text/plain": [
              "(20800, 5)"
            ]
          },
          "metadata": {
            "tags": []
          },
          "execution_count": 6
        }
      ]
    },
    {
      "cell_type": "code",
      "metadata": {
        "id": "LehePPTNT11h"
      },
      "source": [
        "from sklearn.feature_extraction.text import TfidfVectorizer\n"
      ],
      "execution_count": 6,
      "outputs": []
    },
    {
      "cell_type": "code",
      "metadata": {
        "id": "J6o6qxLRXIpP"
      },
      "source": [
        "class document:\n",
        "  \"\"\"\n",
        "  custom class to represent comments\n",
        "  \"\"\"\n",
        "  def __init__(self, id, text, label):\n",
        "    \"\"\"\n",
        "    initialization of comments\n",
        "    \"\"\"\n",
        "    self.id = id\n",
        "    self.text = text\n",
        "    self.label = label\n",
        "  \n",
        "  def read(self):\n",
        "    \"\"\"\n",
        "    returns comment's text\n",
        "    \"\"\"\n",
        "    return self.text"
      ],
      "execution_count": 7,
      "outputs": []
    },
    {
      "cell_type": "markdown",
      "metadata": {
        "id": "0OuIqTGUX2uJ"
      },
      "source": [
        "# Using titles"
      ]
    },
    {
      "cell_type": "code",
      "metadata": {
        "id": "I3mwO1LiXVnN"
      },
      "source": [
        "docs = [document(id, text, label) for id, text, label in np.array(df[['id', 'title', 'label']])]"
      ],
      "execution_count": 24,
      "outputs": []
    },
    {
      "cell_type": "code",
      "metadata": {
        "id": "QTfilRGoYN3p"
      },
      "source": [
        "docs_fit = df['title'].values.astype('U')"
      ],
      "execution_count": 25,
      "outputs": []
    },
    {
      "cell_type": "code",
      "metadata": {
        "id": "tpzs6qZnUKQQ"
      },
      "source": [
        "termtitleMat = TfidfVectorizer(docs, token_pattern='[a-zA-Z]+', stop_words={'english'}).fit_transform(docs_fit)"
      ],
      "execution_count": 39,
      "outputs": []
    },
    {
      "cell_type": "code",
      "metadata": {
        "id": "hg4uWHjBUXZp"
      },
      "source": [
        "from sklearn.ensemble import VotingClassifier, RandomForestClassifier\n",
        "from sklearn.linear_model import LogisticRegression\n",
        "from sklearn.naive_bayes import MultinomialNB\n",
        "from sklearn.ensemble import StackingClassifier"
      ],
      "execution_count": 40,
      "outputs": []
    },
    {
      "cell_type": "code",
      "metadata": {
        "id": "SIyggMYhrVEc"
      },
      "source": [
        "log_clf = LogisticRegression()\n",
        "rnd_clf = RandomForestClassifier()\n",
        "clf = MultinomialNB()"
      ],
      "execution_count": 41,
      "outputs": []
    },
    {
      "cell_type": "markdown",
      "metadata": {
        "id": "GQuDMJ_rzrKa"
      },
      "source": [
        "## Voting Classifier"
      ]
    },
    {
      "cell_type": "code",
      "metadata": {
        "colab": {
          "base_uri": "https://localhost:8080/"
        },
        "id": "qkEkpsTusOXq",
        "outputId": "ad751b04-f5eb-49fd-a378-993530cda489"
      },
      "source": [
        "voting_clf_title = VotingClassifier(estimators=[('lr', log_clf), ('rf', rnd_clf), ('clf', clf)], voting='hard')\n",
        "voting_clf_title.fit(termdocMat, df['label'])\n"
      ],
      "execution_count": 53,
      "outputs": [
        {
          "output_type": "execute_result",
          "data": {
            "text/plain": [
              "VotingClassifier(estimators=[('lr',\n",
              "                              LogisticRegression(C=1.0, class_weight=None,\n",
              "                                                 dual=False, fit_intercept=True,\n",
              "                                                 intercept_scaling=1,\n",
              "                                                 l1_ratio=None, max_iter=100,\n",
              "                                                 multi_class='auto',\n",
              "                                                 n_jobs=None, penalty='l2',\n",
              "                                                 random_state=None,\n",
              "                                                 solver='lbfgs', tol=0.0001,\n",
              "                                                 verbose=0, warm_start=False)),\n",
              "                             ('rf',\n",
              "                              RandomForestClassifier(bootstrap=True,\n",
              "                                                     ccp_alpha=0.0,\n",
              "                                                     class_weight=None,\n",
              "                                                     cr...\n",
              "                                                     max_samples=None,\n",
              "                                                     min_impurity_decrease=0.0,\n",
              "                                                     min_impurity_split=None,\n",
              "                                                     min_samples_leaf=1,\n",
              "                                                     min_samples_split=2,\n",
              "                                                     min_weight_fraction_leaf=0.0,\n",
              "                                                     n_estimators=100,\n",
              "                                                     n_jobs=None,\n",
              "                                                     oob_score=False,\n",
              "                                                     random_state=None,\n",
              "                                                     verbose=0,\n",
              "                                                     warm_start=False)),\n",
              "                             ('clf',\n",
              "                              MultinomialNB(alpha=1.0, class_prior=None,\n",
              "                                            fit_prior=True))],\n",
              "                 flatten_transform=True, n_jobs=None, voting='hard',\n",
              "                 weights=None)"
            ]
          },
          "metadata": {
            "tags": []
          },
          "execution_count": 53
        }
      ]
    },
    {
      "cell_type": "code",
      "metadata": {
        "id": "JsRq3VKxsjfn"
      },
      "source": [
        "from sklearn.model_selection import cross_val_score"
      ],
      "execution_count": 55,
      "outputs": []
    },
    {
      "cell_type": "code",
      "metadata": {
        "colab": {
          "base_uri": "https://localhost:8080/"
        },
        "id": "f_B6WfaltXse",
        "outputId": "73204b25-6f42-4a8a-d016-5692aa48e543"
      },
      "source": [
        "cross_val_score(voting_clf_title, termtitleMat, df['label'], cv=5)"
      ],
      "execution_count": 57,
      "outputs": [
        {
          "output_type": "execute_result",
          "data": {
            "text/plain": [
              "array([0.93966346, 0.93774038, 0.93774038, 0.92956731, 0.93605769])"
            ]
          },
          "metadata": {
            "tags": []
          },
          "execution_count": 57
        }
      ]
    },
    {
      "cell_type": "markdown",
      "metadata": {
        "id": "klmU9-hIzupF"
      },
      "source": [
        "## Stacking classifier"
      ]
    },
    {
      "cell_type": "code",
      "metadata": {
        "id": "j5mCNSryzxmL"
      },
      "source": [
        "stack_clf_title = StackingClassifier(estimators=[('rf', rnd_clf), ('clf', clf)], final_estimator=LogisticRegression())"
      ],
      "execution_count": 58,
      "outputs": []
    },
    {
      "cell_type": "code",
      "metadata": {
        "colab": {
          "base_uri": "https://localhost:8080/"
        },
        "id": "gxIW-rYkzxjo",
        "outputId": "4fceaa6b-baf0-448c-9936-e4f905dad97e"
      },
      "source": [
        "stack_clf_title.fit(termtitleMat, df['label'])"
      ],
      "execution_count": 59,
      "outputs": [
        {
          "output_type": "execute_result",
          "data": {
            "text/plain": [
              "StackingClassifier(cv=None,\n",
              "                   estimators=[('rf',\n",
              "                                RandomForestClassifier(bootstrap=True,\n",
              "                                                       ccp_alpha=0.0,\n",
              "                                                       class_weight=None,\n",
              "                                                       criterion='gini',\n",
              "                                                       max_depth=None,\n",
              "                                                       max_features='auto',\n",
              "                                                       max_leaf_nodes=None,\n",
              "                                                       max_samples=None,\n",
              "                                                       min_impurity_decrease=0.0,\n",
              "                                                       min_impurity_split=None,\n",
              "                                                       min_samples_leaf=1,\n",
              "                                                       min_samples_split=2,\n",
              "                                                       min_weight_fraction_leaf=0.0,\n",
              "                                                       n_estimators=100,\n",
              "                                                       n_jobs=None...\n",
              "                                MultinomialNB(alpha=1.0, class_prior=None,\n",
              "                                              fit_prior=True))],\n",
              "                   final_estimator=LogisticRegression(C=1.0, class_weight=None,\n",
              "                                                      dual=False,\n",
              "                                                      fit_intercept=True,\n",
              "                                                      intercept_scaling=1,\n",
              "                                                      l1_ratio=None,\n",
              "                                                      max_iter=100,\n",
              "                                                      multi_class='auto',\n",
              "                                                      n_jobs=None, penalty='l2',\n",
              "                                                      random_state=None,\n",
              "                                                      solver='lbfgs',\n",
              "                                                      tol=0.0001, verbose=0,\n",
              "                                                      warm_start=False),\n",
              "                   n_jobs=None, passthrough=False, stack_method='auto',\n",
              "                   verbose=0)"
            ]
          },
          "metadata": {
            "tags": []
          },
          "execution_count": 59
        }
      ]
    },
    {
      "cell_type": "code",
      "metadata": {
        "colab": {
          "base_uri": "https://localhost:8080/"
        },
        "id": "QxcrgVYTzxhL",
        "outputId": "fe52237b-80f5-460b-e7f2-d7480177989f"
      },
      "source": [
        "cross_val_score(stack_clf_title, termtitleMat, df['label'], cv=5)"
      ],
      "execution_count": 60,
      "outputs": [
        {
          "output_type": "execute_result",
          "data": {
            "text/plain": [
              "array([0.94591346, 0.95216346, 0.94615385, 0.93966346, 0.94375   ])"
            ]
          },
          "metadata": {
            "tags": []
          },
          "execution_count": 60
        }
      ]
    },
    {
      "cell_type": "markdown",
      "metadata": {
        "id": "9_08tN_CvsBk"
      },
      "source": [
        "# Using text"
      ]
    },
    {
      "cell_type": "code",
      "metadata": {
        "id": "1jZcVLczvuAx"
      },
      "source": [
        "docs = [document(id, text, label) for id, text, label in np.array(df[['id', 'text', 'label']])]"
      ],
      "execution_count": 62,
      "outputs": []
    },
    {
      "cell_type": "code",
      "metadata": {
        "id": "kAjoPy2nyOI-"
      },
      "source": [
        "def gen(docs):\n",
        "  for doc in docs:\n",
        "    yield str(doc.text)\n",
        "docs_fit = gen(docs)"
      ],
      "execution_count": 63,
      "outputs": []
    },
    {
      "cell_type": "code",
      "metadata": {
        "id": "_wq-yW8BwUp-"
      },
      "source": [
        "from sklearn.ensemble import VotingClassifier, RandomForestClassifier\n",
        "from sklearn.linear_model import LogisticRegression\n",
        "from sklearn.naive_bayes import MultinomialNB"
      ],
      "execution_count": 64,
      "outputs": []
    },
    {
      "cell_type": "code",
      "metadata": {
        "id": "8S7BmpvtwfVH"
      },
      "source": [
        "termtextMat = TfidfVectorizer(docs, token_pattern='[a-zA-Z]+', stop_words={'english'}).fit_transform(docs_fit)"
      ],
      "execution_count": 65,
      "outputs": []
    },
    {
      "cell_type": "markdown",
      "metadata": {
        "id": "AWrNXset2P6a"
      },
      "source": [
        "## Voting classifier"
      ]
    },
    {
      "cell_type": "code",
      "metadata": {
        "id": "iRIXu-26w-gO"
      },
      "source": [
        "log_clf = LogisticRegression()\n",
        "rnd_clf = RandomForestClassifier()\n",
        "clf = MultinomialNB()"
      ],
      "execution_count": 66,
      "outputs": []
    },
    {
      "cell_type": "code",
      "metadata": {
        "colab": {
          "base_uri": "https://localhost:8080/"
        },
        "id": "UjYS76mxxijH",
        "outputId": "f9bda3ad-308a-4dba-f21e-70561d18109c"
      },
      "source": [
        "voting_clf_text = VotingClassifier(estimators=[('lr', log_clf), ('rf', rnd_clf), ('clf', clf)], voting='hard')\n",
        "voting_clf_text.fit(termtextMat, df['label'])"
      ],
      "execution_count": 67,
      "outputs": [
        {
          "output_type": "execute_result",
          "data": {
            "text/plain": [
              "VotingClassifier(estimators=[('lr',\n",
              "                              LogisticRegression(C=1.0, class_weight=None,\n",
              "                                                 dual=False, fit_intercept=True,\n",
              "                                                 intercept_scaling=1,\n",
              "                                                 l1_ratio=None, max_iter=100,\n",
              "                                                 multi_class='auto',\n",
              "                                                 n_jobs=None, penalty='l2',\n",
              "                                                 random_state=None,\n",
              "                                                 solver='lbfgs', tol=0.0001,\n",
              "                                                 verbose=0, warm_start=False)),\n",
              "                             ('rf',\n",
              "                              RandomForestClassifier(bootstrap=True,\n",
              "                                                     ccp_alpha=0.0,\n",
              "                                                     class_weight=None,\n",
              "                                                     cr...\n",
              "                                                     max_samples=None,\n",
              "                                                     min_impurity_decrease=0.0,\n",
              "                                                     min_impurity_split=None,\n",
              "                                                     min_samples_leaf=1,\n",
              "                                                     min_samples_split=2,\n",
              "                                                     min_weight_fraction_leaf=0.0,\n",
              "                                                     n_estimators=100,\n",
              "                                                     n_jobs=None,\n",
              "                                                     oob_score=False,\n",
              "                                                     random_state=None,\n",
              "                                                     verbose=0,\n",
              "                                                     warm_start=False)),\n",
              "                             ('clf',\n",
              "                              MultinomialNB(alpha=1.0, class_prior=None,\n",
              "                                            fit_prior=True))],\n",
              "                 flatten_transform=True, n_jobs=None, voting='hard',\n",
              "                 weights=None)"
            ]
          },
          "metadata": {
            "tags": []
          },
          "execution_count": 67
        }
      ]
    },
    {
      "cell_type": "code",
      "metadata": {
        "colab": {
          "base_uri": "https://localhost:8080/"
        },
        "id": "wlSC062py3g2",
        "outputId": "f10f84ed-00e3-4cba-8305-441e91d4b26e"
      },
      "source": [
        "cross_val_score(voting_clf_text, termtextMat, df['label'], cv=5)"
      ],
      "execution_count": 68,
      "outputs": [
        {
          "output_type": "execute_result",
          "data": {
            "text/plain": [
              "array([0.92860577, 0.93052885, 0.94038462, 0.93581731, 0.93317308])"
            ]
          },
          "metadata": {
            "tags": []
          },
          "execution_count": 68
        }
      ]
    },
    {
      "cell_type": "markdown",
      "metadata": {
        "id": "7EhfCAI82VvG"
      },
      "source": [
        "## Stacking Classifier"
      ]
    },
    {
      "cell_type": "code",
      "metadata": {
        "id": "VDf8kkwAzRRR"
      },
      "source": [
        "stack_clf_text = StackingClassifier(estimators=[('rf', rnd_clf), ('clf', clf)], final_estimator=LogisticRegression())"
      ],
      "execution_count": 69,
      "outputs": []
    },
    {
      "cell_type": "code",
      "metadata": {
        "colab": {
          "base_uri": "https://localhost:8080/"
        },
        "id": "m1Z_H-hmMcAZ",
        "outputId": "cfdf0c9a-ebec-4874-cc3a-6ced61214c3e"
      },
      "source": [
        "stack_clf_text.fit(termtextMat, df['label'])"
      ],
      "execution_count": 70,
      "outputs": [
        {
          "output_type": "execute_result",
          "data": {
            "text/plain": [
              "StackingClassifier(cv=None,\n",
              "                   estimators=[('rf',\n",
              "                                RandomForestClassifier(bootstrap=True,\n",
              "                                                       ccp_alpha=0.0,\n",
              "                                                       class_weight=None,\n",
              "                                                       criterion='gini',\n",
              "                                                       max_depth=None,\n",
              "                                                       max_features='auto',\n",
              "                                                       max_leaf_nodes=None,\n",
              "                                                       max_samples=None,\n",
              "                                                       min_impurity_decrease=0.0,\n",
              "                                                       min_impurity_split=None,\n",
              "                                                       min_samples_leaf=1,\n",
              "                                                       min_samples_split=2,\n",
              "                                                       min_weight_fraction_leaf=0.0,\n",
              "                                                       n_estimators=100,\n",
              "                                                       n_jobs=None...\n",
              "                                MultinomialNB(alpha=1.0, class_prior=None,\n",
              "                                              fit_prior=True))],\n",
              "                   final_estimator=LogisticRegression(C=1.0, class_weight=None,\n",
              "                                                      dual=False,\n",
              "                                                      fit_intercept=True,\n",
              "                                                      intercept_scaling=1,\n",
              "                                                      l1_ratio=None,\n",
              "                                                      max_iter=100,\n",
              "                                                      multi_class='auto',\n",
              "                                                      n_jobs=None, penalty='l2',\n",
              "                                                      random_state=None,\n",
              "                                                      solver='lbfgs',\n",
              "                                                      tol=0.0001, verbose=0,\n",
              "                                                      warm_start=False),\n",
              "                   n_jobs=None, passthrough=False, stack_method='auto',\n",
              "                   verbose=0)"
            ]
          },
          "metadata": {
            "tags": []
          },
          "execution_count": 70
        }
      ]
    },
    {
      "cell_type": "code",
      "metadata": {
        "colab": {
          "base_uri": "https://localhost:8080/"
        },
        "id": "IKmIF4uw2t21",
        "outputId": "6de2bfc2-3426-4d54-d161-642a56df620c"
      },
      "source": [
        "cross_val_score(stack_clf_text, termtextMat, df['label'], cv=5)"
      ],
      "execution_count": 71,
      "outputs": [
        {
          "output_type": "execute_result",
          "data": {
            "text/plain": [
              "array([0.93557692, 0.93557692, 0.940625  , 0.94302885, 0.93461538])"
            ]
          },
          "metadata": {
            "tags": []
          },
          "execution_count": 71
        }
      ]
    },
    {
      "cell_type": "code",
      "metadata": {
        "id": "90LLbCOI28rt"
      },
      "source": [
        ""
      ],
      "execution_count": null,
      "outputs": []
    },
    {
      "cell_type": "markdown",
      "metadata": {
        "id": "BaRce-uVe1v8"
      },
      "source": [
        "**Observations**\n",
        "\n",
        "The performance of all the classifiers based on titles and text were almost same. Here are the scores I got using cross validation on training data."
      ]
    },
    {
      "cell_type": "code",
      "metadata": {
        "colab": {
          "base_uri": "https://localhost:8080/"
        },
        "id": "8W-2YOWxe3_v",
        "outputId": "a4f9a623-6492-40b9-af55-0880c840d46a"
      },
      "source": [
        "print(f'Using titles only: votingClassifier -> {np.array([0.93966346, 0.93774038, 0.93774038, 0.92956731, 0.93605769])} \\n avg accuracy:{np.mean(np.array([0.93966346, 0.93774038, 0.93774038, 0.92956731, 0.93605769]))}')\n",
        "print(f'Using titles only: StackingClassifier -> {np.array([0.94591346, 0.95216346, 0.94615385, 0.93966346, 0.94375   ])} \\n avg accuracy:{np.mean(np.array([0.94591346, 0.95216346, 0.94615385, 0.93966346, 0.94375   ]))}')\n",
        "print(f'Using text : votingClassifier -> {np.array([0.92860577, 0.93052885, 0.94038462, 0.93581731, 0.93317308])} \\n avg accuracy:{np.mean(np.array([0.92860577, 0.93052885, 0.94038462, 0.93581731, 0.93317308]))}')\n",
        "print(f'Using text : stackingClassifier -> {np.array([0.93557692, 0.93557692, 0.940625  , 0.94302885, 0.93461538])} \\n avg accuracy:{np.mean(np.array([0.93557692, 0.93557692, 0.940625  , 0.94302885, 0.93461538]))}')\n"
      ],
      "execution_count": 8,
      "outputs": [
        {
          "output_type": "stream",
          "text": [
            "Using titles only: votingClassifier -> [0.93966346 0.93774038 0.93774038 0.92956731 0.93605769] \n",
            " avg accuracy:0.936153844\n",
            "Using titles only: StackingClassifier -> [0.94591346 0.95216346 0.94615385 0.93966346 0.94375   ] \n",
            " avg accuracy:0.9455288459999999\n",
            "Using text : votingClassifier -> [0.92860577 0.93052885 0.94038462 0.93581731 0.93317308] \n",
            " avg accuracy:0.933701926\n",
            "Using text : stackingClassifier -> [0.93557692 0.93557692 0.940625   0.94302885 0.93461538] \n",
            " avg accuracy:0.937884614\n"
          ],
          "name": "stdout"
        }
      ]
    },
    {
      "cell_type": "markdown",
      "metadata": {
        "id": "r_7b8toDjAiX"
      },
      "source": [
        "Stacking classifier using titles only performed best with avg 94.55 % accuracy on all folds of cross validation. "
      ]
    }
  ]
}