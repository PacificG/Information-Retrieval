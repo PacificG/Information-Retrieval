{
  "nbformat": 4,
  "nbformat_minor": 0,
  "metadata": {
    "colab": {
      "name": "Assignment_7_202018005.ipynb",
      "provenance": [],
      "collapsed_sections": [
        "qS5VrnmsdrW-"
      ]
    },
    "kernelspec": {
      "display_name": "Python 3",
      "name": "python3"
    },
    "language_info": {
      "name": "python"
    }
  },
  "cells": [
    {
      "cell_type": "code",
      "metadata": {
        "id": "i2H60UEFn7ec"
      },
      "source": [
        "path = 'drive/MyDrive/workspace/IR/A7'"
      ],
      "execution_count": 5,
      "outputs": []
    },
    {
      "cell_type": "code",
      "metadata": {
        "colab": {
          "base_uri": "https://localhost:8080/"
        },
        "id": "YjUHbRet6axY",
        "outputId": "12b9d4f2-ab40-4967-99f8-7d6382c34d9c"
      },
      "source": [
        "cd $path"
      ],
      "execution_count": 6,
      "outputs": [
        {
          "output_type": "stream",
          "text": [
            "/content/drive/MyDrive/workspace/IR/A7\n"
          ],
          "name": "stdout"
        }
      ]
    },
    {
      "cell_type": "markdown",
      "metadata": {
        "id": "zMXRGu4LBxeL"
      },
      "source": [
        "# A7"
      ]
    },
    {
      "cell_type": "code",
      "metadata": {
        "colab": {
          "base_uri": "https://localhost:8080/",
          "height": 204
        },
        "id": "YUv1wb_ZpQ6Q",
        "outputId": "420fdf9d-ad6c-43a6-ca78-94ff0cefae58"
      },
      "source": [
        "import pandas as pd\n",
        "df = pd.read_csv('data/train.csv')\n",
        "df.head()"
      ],
      "execution_count": 7,
      "outputs": [
        {
          "output_type": "execute_result",
          "data": {
            "text/html": [
              "<div>\n",
              "<style scoped>\n",
              "    .dataframe tbody tr th:only-of-type {\n",
              "        vertical-align: middle;\n",
              "    }\n",
              "\n",
              "    .dataframe tbody tr th {\n",
              "        vertical-align: top;\n",
              "    }\n",
              "\n",
              "    .dataframe thead th {\n",
              "        text-align: right;\n",
              "    }\n",
              "</style>\n",
              "<table border=\"1\" class=\"dataframe\">\n",
              "  <thead>\n",
              "    <tr style=\"text-align: right;\">\n",
              "      <th></th>\n",
              "      <th>id</th>\n",
              "      <th>comment_text</th>\n",
              "      <th>toxic</th>\n",
              "      <th>severe_toxic</th>\n",
              "      <th>obscene</th>\n",
              "      <th>threat</th>\n",
              "      <th>insult</th>\n",
              "      <th>identity_hate</th>\n",
              "    </tr>\n",
              "  </thead>\n",
              "  <tbody>\n",
              "    <tr>\n",
              "      <th>0</th>\n",
              "      <td>0000997932d777bf</td>\n",
              "      <td>Explanation\\nWhy the edits made under my usern...</td>\n",
              "      <td>0</td>\n",
              "      <td>0</td>\n",
              "      <td>0</td>\n",
              "      <td>0</td>\n",
              "      <td>0</td>\n",
              "      <td>0</td>\n",
              "    </tr>\n",
              "    <tr>\n",
              "      <th>1</th>\n",
              "      <td>000103f0d9cfb60f</td>\n",
              "      <td>D'aww! He matches this background colour I'm s...</td>\n",
              "      <td>0</td>\n",
              "      <td>0</td>\n",
              "      <td>0</td>\n",
              "      <td>0</td>\n",
              "      <td>0</td>\n",
              "      <td>0</td>\n",
              "    </tr>\n",
              "    <tr>\n",
              "      <th>2</th>\n",
              "      <td>000113f07ec002fd</td>\n",
              "      <td>Hey man, I'm really not trying to edit war. It...</td>\n",
              "      <td>0</td>\n",
              "      <td>0</td>\n",
              "      <td>0</td>\n",
              "      <td>0</td>\n",
              "      <td>0</td>\n",
              "      <td>0</td>\n",
              "    </tr>\n",
              "    <tr>\n",
              "      <th>3</th>\n",
              "      <td>0001b41b1c6bb37e</td>\n",
              "      <td>\"\\nMore\\nI can't make any real suggestions on ...</td>\n",
              "      <td>0</td>\n",
              "      <td>0</td>\n",
              "      <td>0</td>\n",
              "      <td>0</td>\n",
              "      <td>0</td>\n",
              "      <td>0</td>\n",
              "    </tr>\n",
              "    <tr>\n",
              "      <th>4</th>\n",
              "      <td>0001d958c54c6e35</td>\n",
              "      <td>You, sir, are my hero. Any chance you remember...</td>\n",
              "      <td>0</td>\n",
              "      <td>0</td>\n",
              "      <td>0</td>\n",
              "      <td>0</td>\n",
              "      <td>0</td>\n",
              "      <td>0</td>\n",
              "    </tr>\n",
              "  </tbody>\n",
              "</table>\n",
              "</div>"
            ],
            "text/plain": [
              "                 id  ... identity_hate\n",
              "0  0000997932d777bf  ...             0\n",
              "1  000103f0d9cfb60f  ...             0\n",
              "2  000113f07ec002fd  ...             0\n",
              "3  0001b41b1c6bb37e  ...             0\n",
              "4  0001d958c54c6e35  ...             0\n",
              "\n",
              "[5 rows x 8 columns]"
            ]
          },
          "metadata": {
            "tags": []
          },
          "execution_count": 7
        }
      ]
    },
    {
      "cell_type": "code",
      "metadata": {
        "colab": {
          "base_uri": "https://localhost:8080/",
          "height": 204
        },
        "id": "Vci3ZfRuwTmN",
        "outputId": "9877ccee-ea3f-4c66-aeaa-46304f879bb9"
      },
      "source": [
        "dftest = pd.read_csv('data/test.csv')\n",
        "dftest.head()"
      ],
      "execution_count": 8,
      "outputs": [
        {
          "output_type": "execute_result",
          "data": {
            "text/html": [
              "<div>\n",
              "<style scoped>\n",
              "    .dataframe tbody tr th:only-of-type {\n",
              "        vertical-align: middle;\n",
              "    }\n",
              "\n",
              "    .dataframe tbody tr th {\n",
              "        vertical-align: top;\n",
              "    }\n",
              "\n",
              "    .dataframe thead th {\n",
              "        text-align: right;\n",
              "    }\n",
              "</style>\n",
              "<table border=\"1\" class=\"dataframe\">\n",
              "  <thead>\n",
              "    <tr style=\"text-align: right;\">\n",
              "      <th></th>\n",
              "      <th>id</th>\n",
              "      <th>comment_text</th>\n",
              "    </tr>\n",
              "  </thead>\n",
              "  <tbody>\n",
              "    <tr>\n",
              "      <th>0</th>\n",
              "      <td>00001cee341fdb12</td>\n",
              "      <td>Yo bitch Ja Rule is more succesful then you'll...</td>\n",
              "    </tr>\n",
              "    <tr>\n",
              "      <th>1</th>\n",
              "      <td>0000247867823ef7</td>\n",
              "      <td>== From RfC == \\n\\n The title is fine as it is...</td>\n",
              "    </tr>\n",
              "    <tr>\n",
              "      <th>2</th>\n",
              "      <td>00013b17ad220c46</td>\n",
              "      <td>\" \\n\\n == Sources == \\n\\n * Zawe Ashton on Lap...</td>\n",
              "    </tr>\n",
              "    <tr>\n",
              "      <th>3</th>\n",
              "      <td>00017563c3f7919a</td>\n",
              "      <td>:If you have a look back at the source, the in...</td>\n",
              "    </tr>\n",
              "    <tr>\n",
              "      <th>4</th>\n",
              "      <td>00017695ad8997eb</td>\n",
              "      <td>I don't anonymously edit articles at all.</td>\n",
              "    </tr>\n",
              "  </tbody>\n",
              "</table>\n",
              "</div>"
            ],
            "text/plain": [
              "                 id                                       comment_text\n",
              "0  00001cee341fdb12  Yo bitch Ja Rule is more succesful then you'll...\n",
              "1  0000247867823ef7  == From RfC == \\n\\n The title is fine as it is...\n",
              "2  00013b17ad220c46  \" \\n\\n == Sources == \\n\\n * Zawe Ashton on Lap...\n",
              "3  00017563c3f7919a  :If you have a look back at the source, the in...\n",
              "4  00017695ad8997eb          I don't anonymously edit articles at all."
            ]
          },
          "metadata": {
            "tags": []
          },
          "execution_count": 8
        }
      ]
    },
    {
      "cell_type": "code",
      "metadata": {
        "colab": {
          "base_uri": "https://localhost:8080/"
        },
        "id": "AT8Uw9FHw9o2",
        "outputId": "621d48d6-74d8-4047-cbb2-cc19dc668ed2"
      },
      "source": [
        "dftest.shape"
      ],
      "execution_count": 9,
      "outputs": [
        {
          "output_type": "execute_result",
          "data": {
            "text/plain": [
              "(153164, 2)"
            ]
          },
          "metadata": {
            "tags": []
          },
          "execution_count": 9
        }
      ]
    },
    {
      "cell_type": "code",
      "metadata": {
        "colab": {
          "base_uri": "https://localhost:8080/",
          "height": 204
        },
        "id": "dD0rfV4cwosg",
        "outputId": "550f393c-b520-4390-81f2-ec4aa7b80a7e"
      },
      "source": [
        "dftestlabels = pd.read_csv('data/test_labels.csv')\n",
        "dftestlabels.head()"
      ],
      "execution_count": 10,
      "outputs": [
        {
          "output_type": "execute_result",
          "data": {
            "text/html": [
              "<div>\n",
              "<style scoped>\n",
              "    .dataframe tbody tr th:only-of-type {\n",
              "        vertical-align: middle;\n",
              "    }\n",
              "\n",
              "    .dataframe tbody tr th {\n",
              "        vertical-align: top;\n",
              "    }\n",
              "\n",
              "    .dataframe thead th {\n",
              "        text-align: right;\n",
              "    }\n",
              "</style>\n",
              "<table border=\"1\" class=\"dataframe\">\n",
              "  <thead>\n",
              "    <tr style=\"text-align: right;\">\n",
              "      <th></th>\n",
              "      <th>id</th>\n",
              "      <th>toxic</th>\n",
              "      <th>severe_toxic</th>\n",
              "      <th>obscene</th>\n",
              "      <th>threat</th>\n",
              "      <th>insult</th>\n",
              "      <th>identity_hate</th>\n",
              "    </tr>\n",
              "  </thead>\n",
              "  <tbody>\n",
              "    <tr>\n",
              "      <th>0</th>\n",
              "      <td>00001cee341fdb12</td>\n",
              "      <td>-1</td>\n",
              "      <td>-1</td>\n",
              "      <td>-1</td>\n",
              "      <td>-1</td>\n",
              "      <td>-1</td>\n",
              "      <td>-1</td>\n",
              "    </tr>\n",
              "    <tr>\n",
              "      <th>1</th>\n",
              "      <td>0000247867823ef7</td>\n",
              "      <td>-1</td>\n",
              "      <td>-1</td>\n",
              "      <td>-1</td>\n",
              "      <td>-1</td>\n",
              "      <td>-1</td>\n",
              "      <td>-1</td>\n",
              "    </tr>\n",
              "    <tr>\n",
              "      <th>2</th>\n",
              "      <td>00013b17ad220c46</td>\n",
              "      <td>-1</td>\n",
              "      <td>-1</td>\n",
              "      <td>-1</td>\n",
              "      <td>-1</td>\n",
              "      <td>-1</td>\n",
              "      <td>-1</td>\n",
              "    </tr>\n",
              "    <tr>\n",
              "      <th>3</th>\n",
              "      <td>00017563c3f7919a</td>\n",
              "      <td>-1</td>\n",
              "      <td>-1</td>\n",
              "      <td>-1</td>\n",
              "      <td>-1</td>\n",
              "      <td>-1</td>\n",
              "      <td>-1</td>\n",
              "    </tr>\n",
              "    <tr>\n",
              "      <th>4</th>\n",
              "      <td>00017695ad8997eb</td>\n",
              "      <td>-1</td>\n",
              "      <td>-1</td>\n",
              "      <td>-1</td>\n",
              "      <td>-1</td>\n",
              "      <td>-1</td>\n",
              "      <td>-1</td>\n",
              "    </tr>\n",
              "  </tbody>\n",
              "</table>\n",
              "</div>"
            ],
            "text/plain": [
              "                 id  toxic  severe_toxic  ...  threat  insult  identity_hate\n",
              "0  00001cee341fdb12     -1            -1  ...      -1      -1             -1\n",
              "1  0000247867823ef7     -1            -1  ...      -1      -1             -1\n",
              "2  00013b17ad220c46     -1            -1  ...      -1      -1             -1\n",
              "3  00017563c3f7919a     -1            -1  ...      -1      -1             -1\n",
              "4  00017695ad8997eb     -1            -1  ...      -1      -1             -1\n",
              "\n",
              "[5 rows x 7 columns]"
            ]
          },
          "metadata": {
            "tags": []
          },
          "execution_count": 10
        }
      ]
    },
    {
      "cell_type": "code",
      "metadata": {
        "colab": {
          "base_uri": "https://localhost:8080/"
        },
        "id": "Imy9vrLmw1iq",
        "outputId": "66cf407c-254a-4b12-da7c-fcfe09e357d8"
      },
      "source": [
        "dftestlabels.shape"
      ],
      "execution_count": 11,
      "outputs": [
        {
          "output_type": "execute_result",
          "data": {
            "text/plain": [
              "(153164, 7)"
            ]
          },
          "metadata": {
            "tags": []
          },
          "execution_count": 11
        }
      ]
    },
    {
      "cell_type": "code",
      "metadata": {
        "colab": {
          "base_uri": "https://localhost:8080/"
        },
        "id": "N12hvU2zw8bB",
        "outputId": "f8df1d9f-df04-440f-ba46-c71100564909"
      },
      "source": [
        "columns = ['toxic', 'severe_toxic', 'obscene', 'threat', 'insult', 'identity_hate']\n",
        "for col in columns:\n",
        "  print(f'{col}:{sum(dftestlabels[col] == -1)}')"
      ],
      "execution_count": 12,
      "outputs": [
        {
          "output_type": "stream",
          "text": [
            "toxic:89186\n",
            "severe_toxic:89186\n",
            "obscene:89186\n",
            "threat:89186\n",
            "insult:89186\n",
            "identity_hate:89186\n"
          ],
          "name": "stdout"
        }
      ]
    },
    {
      "cell_type": "markdown",
      "metadata": {
        "id": "T1E83oHP2HOK"
      },
      "source": [
        "There are 89186 test comments for which variables have -1 value. we need to remove those."
      ]
    },
    {
      "cell_type": "code",
      "metadata": {
        "id": "eMhY7cBK3Hlb"
      },
      "source": [
        "dftlvalid = dftestlabels[dftestlabels['toxic'] != -1]\n",
        "dftestvalid = dftest[dftestlabels['toxic'] != -1]\n"
      ],
      "execution_count": 13,
      "outputs": []
    },
    {
      "cell_type": "code",
      "metadata": {
        "id": "XDcDHejz8lEp"
      },
      "source": [
        "# %%writefile setup.py\n",
        "\n",
        "import numpy as np\n",
        "from sklearn.feature_extraction.text import TfidfVectorizer\n",
        "from gensim.test.utils import datapath\n",
        "from gensim import utils\n",
        "from gensim.parsing.preprocessing import preprocess_string, preprocess_documents\n",
        "\n",
        "class document:\n",
        "  \"\"\"\n",
        "  custom class to represent comments\n",
        "  \"\"\"\n",
        "  def __init__(self, id, text, *ls):\n",
        "    \"\"\"\n",
        "    initialization of comments\n",
        "    \"\"\"\n",
        "    self.id = id\n",
        "    self.text = text\n",
        "    r = iter(range(6))\n",
        "    self.level = {threat:ls[next(r)] for threat in ['toxic', 'severe_toxic', 'obscene', 'threat', \n",
        "                                  'insult', 'identity_hate']}\n",
        "  \n",
        "  def read(self):\n",
        "    \"\"\"\n",
        "    returns comment's text\n",
        "    \"\"\"\n",
        "    return self.text\n",
        "\n",
        "\n",
        "\n",
        "\n",
        "      "
      ],
      "execution_count": 14,
      "outputs": []
    },
    {
      "cell_type": "code",
      "metadata": {
        "id": "Kttcx_A2rsKz"
      },
      "source": [
        "#training comments\n",
        "documents = [document(*list(df.iloc[i])) for i in range(df.shape[0])]"
      ],
      "execution_count": 15,
      "outputs": []
    },
    {
      "cell_type": "code",
      "metadata": {
        "id": "SWf2utvv4DCj"
      },
      "source": [
        "#testing comments\n",
        "testdocs = [document(dftestvalid.iloc[i, 0], dftestvalid.iloc[i, 1], *list(dftlvalid.iloc[ i, 1:])) for i in range(dftlvalid.shape[0])]"
      ],
      "execution_count": 16,
      "outputs": []
    },
    {
      "cell_type": "code",
      "metadata": {
        "id": "x6S9PvXqJK20"
      },
      "source": [
        "def count():\n",
        "  i = 0\n",
        "  while True:\n",
        "    yield i\n",
        "    i += 1"
      ],
      "execution_count": 17,
      "outputs": []
    },
    {
      "cell_type": "code",
      "metadata": {
        "id": "h_GuXaAzvqGx"
      },
      "source": [
        "class vectorize:\n",
        "  \"\"\"\n",
        "  custom class for tfidf and word2vec\n",
        "  \"\"\"\n",
        "  def __init__(self, documents, testdocs):\n",
        "    self.documents = documents\n",
        "    self.testdocs = testdocs\n",
        "\n",
        "  def iter(self):\n",
        "    \n",
        "    from gensim.parsing.preprocessing import preprocess_string, preprocess_documents\n",
        "    for doc in self.documents:\n",
        "      yield doc.read()\n",
        "    for testd in self.testdocs:\n",
        "      yield testd.read()\n",
        "\n",
        "\n",
        "  def tfidfvec(self):\n",
        "    \"\"\"\n",
        "    tfidf representation for training and testing comments\n",
        "    \"\"\"\n",
        "    from sklearn.feature_extraction.text import TfidfVectorizer\n",
        "    itr = self.iter()\n",
        "    termdocMat = TfidfVectorizer(self.documents, token_pattern='[a-zA-Z]+', stop_words={'english'}).fit_transform(itr)\n",
        "    self.tfidfdoc = termdocMat[:len(self.documents), :]\n",
        "    c= count()\n",
        "    self.tfidftestdoc = termdocMat[len(self.documents):,:]\n",
        "    del termdocMat\n",
        "\n",
        "  def word2vec(self, sentences):\n",
        "    \"\"\"\n",
        "    word2vec representation for training and testing comments\n",
        "    \"\"\"\n",
        "    from gensim.test.utils import datapath\n",
        "    from gensim import utils\n",
        "    from gensim.parsing.preprocessing import preprocess_string, preprocess_documents \n",
        "\n",
        "    import gensim.models\n",
        "\n",
        "    skipmodel = gensim.models.Word2Vec(sentences=sentences, sg=1, min_count = 1, size=300, window=5, workers=2)\n",
        "\n",
        "    \n",
        "    docs = {file.id:file.read().lower().split() for file in self.documents}\n",
        "\n",
        "    queries = {file.id:file.read().lower().split() for file in self.testdocs}\n",
        "\n",
        "    for i in range(len(self.documents)):\n",
        "      self.documents[i].w2vec = sum([skipmodel.wv[word] for word in docs[self.documents[i].id] if  word in skipmodel.wv])\n",
        "    \n",
        "    for i in range(len(self.testdocs)):\n",
        "      self.testdocs[i].w2vec = sum([skipmodel.wv[word] for word in queries[self.testdocs[i].id] if word in skipmodel.wv])\n",
        "    "
      ],
      "execution_count": 53,
      "outputs": []
    },
    {
      "cell_type": "code",
      "metadata": {
        "id": "i5nTh54us0FK"
      },
      "source": [
        "vec = vectorize(documents, testdocs)"
      ],
      "execution_count": 54,
      "outputs": []
    },
    {
      "cell_type": "code",
      "metadata": {
        "id": "25ZjsQTWY8IL"
      },
      "source": [
        "from gensim.parsing.preprocessing import preprocess_string, preprocess_documents \n",
        "class MyCorpus:\n",
        "      \"\"\"An iterator that yields sentences (lists of str).\"\"\"\n",
        "\n",
        "      def __iter__(self):\n",
        "        for file in vec.documents:\n",
        "          yield file.read().lower().split()\n",
        "        for file in vec.testdocs:\n",
        "          yield file.read().lower().split()"
      ],
      "execution_count": 55,
      "outputs": []
    },
    {
      "cell_type": "code",
      "metadata": {
        "id": "0saeNlFhZIrI"
      },
      "source": [
        "sentences = MyCorpus()"
      ],
      "execution_count": 21,
      "outputs": []
    },
    {
      "cell_type": "code",
      "metadata": {
        "id": "umqbwOqPWTwQ"
      },
      "source": [
        "vec.tfidfvec()"
      ],
      "execution_count": 22,
      "outputs": []
    },
    {
      "cell_type": "code",
      "metadata": {
        "id": "hAQvGJqiX6Kw"
      },
      "source": [
        "vec.word2vec(sentences)"
      ],
      "execution_count": null,
      "outputs": []
    },
    {
      "cell_type": "markdown",
      "metadata": {
        "id": "PyeHbtoq6te6"
      },
      "source": [
        "#tfidf"
      ]
    },
    {
      "cell_type": "code",
      "metadata": {
        "id": "G5-NFvQdqO9v"
      },
      "source": [
        "def perf_measure(y_actual, y_hat):\n",
        "  \"\"\"\n",
        "  calculates TP, FP, TN, FN for actual and predicted y\n",
        "  \"\"\"\n",
        "    TP = 0\n",
        "    FP = 0\n",
        "    TN = 0\n",
        "    FN = 0\n",
        "\n",
        "    for i in range(len(y_hat)): \n",
        "        if y_actual[i]==y_hat[i]==1:\n",
        "           TP += 1\n",
        "        if y_hat[i]==1 and y_actual[i]!=y_hat[i]:\n",
        "           FP += 1\n",
        "        if y_actual[i]==y_hat[i]==0:\n",
        "           TN += 1\n",
        "        if y_hat[i]==0 and y_actual[i]!=y_hat[i]:\n",
        "           FN += 1\n",
        "\n",
        "    return(TP, FP, TN, FN)"
      ],
      "execution_count": 31,
      "outputs": []
    },
    {
      "cell_type": "code",
      "metadata": {
        "colab": {
          "base_uri": "https://localhost:8080/"
        },
        "id": "E_OBvBmSeIPk",
        "outputId": "1bf81e46-4b66-46eb-d9cb-5c9e2d5de8f7"
      },
      "source": [
        "from sklearn.pipeline import Pipeline\n",
        "from sklearn.preprocessing import StandardScaler\n",
        "from sklearn.svm import LinearSVC\n",
        "from sklearn.multiclass import OneVsRestClassifier\n",
        "from sklearn.metrics import accuracy_score\n",
        "\n",
        "#classifier for LinearSVC\n",
        "clf = Pipeline([\n",
        "    ('clf', OneVsRestClassifier(LinearSVC(), n_jobs=1))\n",
        "      ])\n",
        "\n",
        "l = {}\n",
        "for col in columns:\n",
        "  y = np.array([vec.documents[i].level[col] for i in range(len(vec.documents))])\n",
        "  clf.fit(vec.tfidfdoc, y)\n",
        "  ytest = np.array([vec.testdocs[i].level[col] for i in range(len(vec.testdocs))])\n",
        "  pred = clf.predict(vec.tfidftestdoc)\n",
        "  l[col] = perf_measure(ytest, pred)\n",
        "  print(f'{col} accuracy: {accuracy_score(ytest, pred)}')\n"
      ],
      "execution_count": 32,
      "outputs": [
        {
          "output_type": "stream",
          "text": [
            "toxic accuracy: 0.9302260151927225\n",
            "severe_toxic accuracy: 0.993419612991966\n",
            "obscene accuracy: 0.9651598987151834\n",
            "threat accuracy: 0.9968739254118604\n",
            "insult accuracy: 0.9635812310481728\n",
            "identity_hate accuracy: 0.9901372346744194\n"
          ],
          "name": "stdout"
        }
      ]
    },
    {
      "cell_type": "code",
      "metadata": {
        "id": "JxDjfyVAeIHy"
      },
      "source": [
        "def micro_precision(dic):\n",
        "  \"\"\"\n",
        "  returns micro_precision for multilabel classification\n",
        "  \"\"\"\n",
        "  num, denom = 0, 0\n",
        "  for col in dic:\n",
        "    num += dic[col][0]\n",
        "    denom += dic[col][0] + dic[col][1]\n",
        "  return num/denom\n",
        "  "
      ],
      "execution_count": 33,
      "outputs": []
    },
    {
      "cell_type": "code",
      "metadata": {
        "id": "1zj3isLveIGZ"
      },
      "source": [
        "def micro_recall(dic):\n",
        "  \"\"\"\n",
        "  returns micro_recall for multilabel classification\n",
        "  \"\"\"\n",
        "  num, denom = 0, 0\n",
        "  for col in dic:\n",
        "    num += dic[col][0]\n",
        "    denom += dic[col][0] + dic[col][3]\n",
        "  return num/denom"
      ],
      "execution_count": 34,
      "outputs": []
    },
    {
      "cell_type": "code",
      "metadata": {
        "id": "PYY4xtnwvgdc"
      },
      "source": [
        "def micro_f1(micro_p, micro_rec):\n",
        "  \"\"\"\n",
        "  returns micro_f1 for multilabel classification\n",
        "  \"\"\"\n",
        "  return 2*(micro_p*micro_rec)/(micro_p + micro_rec)"
      ],
      "execution_count": 35,
      "outputs": []
    },
    {
      "cell_type": "code",
      "metadata": {
        "id": "TYBir8CWwxkt"
      },
      "source": [
        ""
      ],
      "execution_count": 35,
      "outputs": []
    },
    {
      "cell_type": "code",
      "metadata": {
        "id": "-Lo6QHs3eH4c"
      },
      "source": [
        "def macro_precision(dic):\n",
        "  \"\"\"\n",
        "  returns macro_precision for multilabel classification\n",
        "  \"\"\"\n",
        "  prec = 0\n",
        "  for col in dic:\n",
        "    precision = dic[col][0]/ (dic[col][0] + dic[col][1])\n",
        "    prec += precision\n",
        "  return prec/6\n",
        "\n"
      ],
      "execution_count": 63,
      "outputs": []
    },
    {
      "cell_type": "code",
      "metadata": {
        "id": "955DAferx7CR"
      },
      "source": [
        "def macro_recall(dic):\n",
        "  \"\"\"\n",
        "  returns macro_recall for multilabel classification\n",
        "  \"\"\"\n",
        "  recall = 0\n",
        "  for col in dic:\n",
        "    recall += dic[col][0] / (dic[col][0] + dic[col][3])\n",
        "  return recall/6"
      ],
      "execution_count": 64,
      "outputs": []
    },
    {
      "cell_type": "code",
      "metadata": {
        "id": "W2pKFJIryujq"
      },
      "source": [
        "def macro_f1(macro_p, macro_rec):\n",
        "  \"\"\"\n",
        "  returns macro_f1 for multilabel classification\n",
        "  \"\"\"\n",
        "  return 2*(macro_p*macro_rec)/(macro_p+macro_rec)"
      ],
      "execution_count": 65,
      "outputs": []
    },
    {
      "cell_type": "code",
      "metadata": {
        "colab": {
          "base_uri": "https://localhost:8080/"
        },
        "id": "6xTKrMvaz85H",
        "outputId": "b25fa756-e6d5-4541-b8ce-5ba762a69643"
      },
      "source": [
        "print(f'Micro-Precision for Tfidf: {micro_precision(l)}')\n",
        "print(f'Macro-Precision for Tfidf: {macro_precision(l)}')\n",
        "print(f'Micro-recall for Tfidf: {micro_recall(l)}')\n",
        "print(f'Macro-recall for Tfidf: {macro_recall(l)}')\n",
        "print(f'Micro-f1 for Tfidf: {micro_f1(micro_precision(l), micro_recall(l))}')\n",
        "print(f'Macro-f1 for Tfidf: {macro_f1(macro_precision(l), macro_recall(l))}')"
      ],
      "execution_count": 66,
      "outputs": [
        {
          "output_type": "stream",
          "text": [
            "Micro-Precision for Tfidf: 0.571709542915585\n",
            "Macro-Precision for Tfidf: 0.47171411406595704\n",
            "Micro-recall for Tfidf: 0.5012415505586978\n",
            "Macro-recall for Tfidf: 0.37082735342713224\n",
            "Micro-f1 for Tfidf: 0.5341614906832298\n",
            "Macro-f1 for Tfidf: 0.41523059277729374\n"
          ],
          "name": "stdout"
        }
      ]
    },
    {
      "cell_type": "markdown",
      "metadata": {
        "id": "hOigUIStGFZc"
      },
      "source": [
        "#word2vec\n"
      ]
    },
    {
      "cell_type": "code",
      "metadata": {
        "id": "ozosch4seHig"
      },
      "source": [
        "X = np.array([vec.documents[i].w2vec for i in range(len(vec.documents))])"
      ],
      "execution_count": 26,
      "outputs": []
    },
    {
      "cell_type": "code",
      "metadata": {
        "id": "D8X8T2UXGkgn"
      },
      "source": [
        "Xtest = np.array([vec.testdocs[i].w2vec for i in range(len(vec.testdocs))])"
      ],
      "execution_count": 27,
      "outputs": []
    },
    {
      "cell_type": "code",
      "metadata": {
        "id": "yWZzk0AuHpJo"
      },
      "source": [
        "levels = ['toxic', 'severe_toxic', 'obscene', 'threat', \n",
        "                                  'insult', 'identity_hate']\n",
        "\n"
      ],
      "execution_count": 28,
      "outputs": []
    },
    {
      "cell_type": "code",
      "metadata": {
        "id": "J7K5Ui092-HB"
      },
      "source": [
        "import warnings\n",
        "\n",
        "warnings.filterwarnings('ignore')"
      ],
      "execution_count": 47,
      "outputs": []
    },
    {
      "cell_type": "code",
      "metadata": {
        "colab": {
          "base_uri": "https://localhost:8080/"
        },
        "id": "8eVhgt5aHqxK",
        "outputId": "a97e0f5a-99b2-4b05-e7c4-012ec5198278"
      },
      "source": [
        "clf = Pipeline([\n",
        "    ('clf', OneVsRestClassifier(LinearSVC(), n_jobs=1))\n",
        "      ])\n",
        "l = {}\n",
        "for col in columns:\n",
        "  y = np.array([vec.documents[i].level[col] for i in range(len(vec.documents))])\n",
        "  clf.fit(X, y)\n",
        "  ytest = np.array([vec.testdocs[i].level[col] for i in range(len(vec.testdocs))])\n",
        "  pred = clf.predict(Xtest)\n",
        "  l[col] = perf_measure(ytest, pred)\n",
        "  print(f'{col} accuracy: {accuracy_score(ytest, pred)}')"
      ],
      "execution_count": 48,
      "outputs": [
        {
          "output_type": "stream",
          "text": [
            "toxic accuracy: 0.9179405420613336\n",
            "severe_toxic accuracy: 0.9880427647003658\n",
            "obscene accuracy: 0.9534058582637782\n",
            "threat accuracy: 0.9956860170683672\n",
            "insult accuracy: 0.9581731220106912\n",
            "identity_hate accuracy: 0.9886367188721122\n"
          ],
          "name": "stdout"
        }
      ]
    },
    {
      "cell_type": "code",
      "metadata": {
        "colab": {
          "base_uri": "https://localhost:8080/"
        },
        "id": "RJ-X-a9r3Ipp",
        "outputId": "7681e7d5-2a92-4ba8-d066-3b274185d179"
      },
      "source": [
        "print(f'Micro-Precision for word2vec: {micro_precision(l)}')\n",
        "print(f'Macro-Precision for word2vec: {macro_precision(l)}')\n",
        "print(f'Micro-recall for word2vec: {micro_recall(l)}')\n",
        "print(f'Macro-recall for word2vec: {macro_recall(l)}')\n",
        "print(f'Micro-f1 for word2vec: {micro_f1(micro_precision(l), micro_recall(l))}')\n",
        "print(f'Macro-f1 for word2vec: {macro_f1(macro_precision(l), macro_recall(l))}')"
      ],
      "execution_count": 67,
      "outputs": [
        {
          "output_type": "stream",
          "text": [
            "Micro-Precision for word2vec: 0.571709542915585\n",
            "Macro-Precision for word2vec: 0.47171411406595704\n",
            "Micro-recall for word2vec: 0.5012415505586978\n",
            "Macro-recall for word2vec: 0.37082735342713224\n",
            "Micro-f1 for word2vec: 0.5341614906832298\n",
            "Macro-f1 for word2vec: 0.41523059277729374\n"
          ],
          "name": "stdout"
        }
      ]
    },
    {
      "cell_type": "code",
      "metadata": {
        "id": "7n14tOnjI4vK"
      },
      "source": [
        ""
      ],
      "execution_count": 29,
      "outputs": []
    }
  ]
}