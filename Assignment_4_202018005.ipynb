{
  "nbformat": 4,
  "nbformat_minor": 0,
  "metadata": {
    "colab": {
      "name": "Assignment-4-202018005.ipynb",
      "provenance": [],
      "collapsed_sections": [
        "y1WWLP3SkmSW",
        "Ghq0UOvLkqpR",
        "eup2kuRttEsx"
      ],
      "toc_visible": true
    },
    "kernelspec": {
      "display_name": "Python 3",
      "name": "python3"
    }
  },
  "cells": [
    {
      "cell_type": "code",
      "metadata": {
        "colab": {
          "base_uri": "https://localhost:8080/"
        },
        "id": "VdSuUVooFSW9",
        "outputId": "dcb8d29e-8320-42da-b8db-2007a483e721"
      },
      "source": [
        "    %%capture\n",
        "    !pip install ipython-autotime\n",
        "\n",
        "    %load_ext autotime"
      ],
      "execution_count": 10,
      "outputs": [
        {
          "output_type": "stream",
          "text": [
            "time: 311 µs (started: 2021-03-07 18:21:04 +00:00)\n"
          ],
          "name": "stdout"
        }
      ]
    },
    {
      "cell_type": "code",
      "metadata": {
        "colab": {
          "base_uri": "https://localhost:8080/"
        },
        "id": "tyWpSlU1eKgk",
        "outputId": "007806a8-984b-4f24-b17f-7e62734bb968"
      },
      "source": [
        "import nltk\n",
        "import numpy as np\n",
        "import os\n",
        "from sklearn.cluster import AgglomerativeClustering\n",
        "import matplotlib.pyplot as plt\n",
        "import pandas as pd\n",
        "import glob\n",
        "import re\n",
        "from bs4 import BeautifulSoup\n",
        "\n",
        "%matplotlib inline\n"
      ],
      "execution_count": 2,
      "outputs": [
        {
          "output_type": "stream",
          "text": [
            "time: 1.81 s (started: 2021-03-07 17:46:34 +00:00)\n"
          ],
          "name": "stdout"
        }
      ]
    },
    {
      "cell_type": "markdown",
      "metadata": {
        "id": "bWm4xwSm5L4Y"
      },
      "source": [
        "# words"
      ]
    },
    {
      "cell_type": "code",
      "metadata": {
        "colab": {
          "base_uri": "https://localhost:8080/"
        },
        "id": "Temks3BHgE9u",
        "outputId": "b633302f-8609-485f-f325-85d1e12bcfdb"
      },
      "source": [
        "!gdown https://drive.google.com/uc?id=1YOjtv8iyXOPISHmLyAabhl1IibnLcCx_"
      ],
      "execution_count": 3,
      "outputs": [
        {
          "output_type": "stream",
          "text": [
            "Downloading...\n",
            "From: https://drive.google.com/uc?id=1YOjtv8iyXOPISHmLyAabhl1IibnLcCx_\n",
            "To: /content/stemming-assignment.txt\n",
            "\r  0% 0.00/190k [00:00<?, ?B/s]\r100% 190k/190k [00:00<00:00, 27.4MB/s]\n",
            "time: 926 ms (started: 2021-03-07 17:46:35 +00:00)\n"
          ],
          "name": "stdout"
        }
      ]
    },
    {
      "cell_type": "code",
      "metadata": {
        "colab": {
          "base_uri": "https://localhost:8080/"
        },
        "id": "wlLqttq8juXv",
        "outputId": "b0a2c97a-1cc0-4e72-fff4-532a2190feee"
      },
      "source": [
        "words = open('stemming-assignment.txt').read().split('\\n')\n",
        "len(words)"
      ],
      "execution_count": 4,
      "outputs": [
        {
          "output_type": "execute_result",
          "data": {
            "text/plain": [
              "23532"
            ]
          },
          "metadata": {
            "tags": []
          },
          "execution_count": 4
        },
        {
          "output_type": "stream",
          "text": [
            "time: 9.31 ms (started: 2021-03-07 17:46:36 +00:00)\n"
          ],
          "name": "stdout"
        }
      ]
    },
    {
      "cell_type": "code",
      "metadata": {
        "colab": {
          "base_uri": "https://localhost:8080/"
        },
        "id": "eMP3dsZS7lDp",
        "outputId": "12ea1f90-87d9-4c7e-a9a8-613a33de9da7"
      },
      "source": [
        "def chunks(lst, n):\r\n",
        "  \"\"\"Yield successive n-sized chunks from lst.\"\"\"\r\n",
        "  for i in range(0, len(lst), n):\r\n",
        "    yield lst[i:i+n]\r\n",
        "\r\n",
        "def counter():\r\n",
        "  i = 0\r\n",
        "  while True:\r\n",
        "    i += 1\r\n",
        "    yield i\r\n",
        "\r\n",
        "\r\n",
        "class YASStemmer:\r\n",
        "  def __init__(self, words):\r\n",
        "    self.words = words\r\n",
        "    self.index = {i:self.words[i] for i in range(len(self.words))}\r\n",
        "    self.n_words = len(self.words)\r\n",
        "    \r\n",
        "  \r\n",
        "  def D1(self, a, b):\r\n",
        "    sm, lr = (a, b) if len(a) < len(b) else (b, a)\r\n",
        "    s, l = len(sm), len(lr)\r\n",
        "    st = sum([0 if a[i]==b[i] else 1/(2**i) for i in range(s)])\r\n",
        "    st += sum([1/(2**i) for i in range(s, l)])\r\n",
        "    return st\r\n",
        "\r\n",
        "  def D2(self, a, b):\r\n",
        "    sm, lr = (a, b) if len(a) < len(b) else (b, a)\r\n",
        "    if len(a) == 0 or len(b) == 0:\r\n",
        "      return 100\r\n",
        "    elif a[0] != b[0]:\r\n",
        "      return 100\r\n",
        "    m = 0\r\n",
        "    D = 0\r\n",
        "    for i in range(len(sm)):\r\n",
        "      if a[i] != b[i]:\r\n",
        "        m = i\r\n",
        "        break\r\n",
        "      if i == len(sm) - 1:\r\n",
        "        m = i + 1\r\n",
        "    for i in range(m, len(lr)):\r\n",
        "      D += 1/(2**(i-m))\r\n",
        "    D = D / m\r\n",
        "\r\n",
        "    return D\r\n",
        "    \r\n",
        "  def D3(self, a, b):\r\n",
        "    sm, lr = (a, b) if len(a) < len(b) else (b, a)\r\n",
        "    if not len(a) or not len(b):\r\n",
        "      return 100\r\n",
        "    elif a[0] != b[0]:\r\n",
        "      return 100\r\n",
        "    m = 0\r\n",
        "    n = len(lr) - 1\r\n",
        "    D = 0\r\n",
        "    for i in range(len(sm)):\r\n",
        "      if a[i] != b[i]:\r\n",
        "        m = i\r\n",
        "        break\r\n",
        "      if i == len(sm) - 1:\r\n",
        "        m = i + 1\r\n",
        "    for i in range(m, len(lr)):\r\n",
        "      D += 1/(2**(i-m))\r\n",
        "    D = (D * (n -m + 1))  / m\r\n",
        "    return D\r\n",
        "\r\n",
        "  def D4(self, a, b):\r\n",
        "    sm = min([a, b], key= lambda x: len(x))\r\n",
        "    lr = max([a, b], key=lambda x: len(x))\r\n",
        "    if not len(a) or not len(b):\r\n",
        "      return 100\r\n",
        "    elif a[0] != b[0]:\r\n",
        "      return 100\r\n",
        "    m = 0\r\n",
        "    n = len(lr) - 1\r\n",
        "    D = 0\r\n",
        "    for i in range(len(sm)):\r\n",
        "      if not len(a) or not len(b):\r\n",
        "        break\r\n",
        "      elif a[i] != b[i]:\r\n",
        "        m = i\r\n",
        "        break\r\n",
        "    if i == len(sm) -  1:\r\n",
        "      m = i + 1\r\n",
        "    for i in range(m, len(lr)):\r\n",
        "      D += 1/(2**(i-m))\r\n",
        "    D = (D * (n -m + 1))  / (n+1)\r\n",
        "    return D\r\n",
        "\r\n",
        "  def DistanceMatrix(self, fn, n=2, load=False, path=None):\r\n",
        "    if load:\r\n",
        "      from google.colab import drive\r\n",
        "      drive.mount('/gdrive')\r\n",
        "      self.distMatrix = [np.load(path+file) for file in os.listdir(path)]\r\n",
        "    else:\r\n",
        "      lexGen = chunks(self.words, len(self.words)//n)\r\n",
        "      self.distMatrix = []\r\n",
        "      while True:\r\n",
        "        try:\r\n",
        "          x = next(lexGen)\r\n",
        "          self.distMatrix.append(np.array([[fn(a, b) for a in x] for b in x]))\r\n",
        "        except StopIteration:\r\n",
        "          break\r\n",
        "      return self.distMatrix\r\n",
        "  \r\n",
        "  def saveMatrices(self, path):\r\n",
        "    from google.colab import drive\r\n",
        "    drive.mount('/gdrive')\r\n",
        "    c = counter()\r\n",
        "    for dmat in self.distMatrix:\r\n",
        "      np.save(f'{path}/D{next(c)}.npy', dmat)\r\n",
        "\r\n",
        "  def performClustering(self, algo, linkage, distanceThreshold):\r\n",
        "    self.clusters = []\r\n",
        "    for dmat in self.distMatrix:\r\n",
        "      self.clusters.append(algo(affinity='precomputed', \r\n",
        "          n_clusters=None, distance_threshold=distanceThreshold, linkage=linkage).fit(dmat))\r\n",
        "    self.n_clusters = sum([cluster.n_clusters_ for cluster in self.clusters])\r\n",
        "    return self.n_clusters\r\n",
        "  \r\n",
        "  def findCenter(self):\r\n",
        "    mapr = {i:[] for i in range(self.n_clusters)}\r\n",
        "    for i in range(len(self.clusters)):\r\n",
        "      for j in range(len(self.clusters[i].labels_)):\r\n",
        "        mapr[self.clusters[i].labels_[j] + self.clusters[0].n_clusters_ * i].append(j + \r\n",
        "                self.n_words//len(self.clusters) * i)\r\n",
        "    self.clusterWords = {cl:list(map(lambda x: self.index[x], mapr[cl])) for cl in mapr}\r\n",
        "  \r\n",
        "  def rootword(self):\r\n",
        "    rootmap = dict()\r\n",
        "    for cluster in self.clusterWords:\r\n",
        "      x = min(self.clusterWords[cluster], key=lambda x: len(x))\r\n",
        "      for word in self.clusterWords[cluster]:\r\n",
        "        rootmap[word] = x\r\n",
        "        \r\n",
        "    return rootmap\r\n",
        "    \r\n",
        "\r\n",
        "\r\n",
        "    \r\n",
        "\r\n"
      ],
      "execution_count": 5,
      "outputs": [
        {
          "output_type": "stream",
          "text": [
            "time: 271 ms (started: 2021-03-07 17:46:36 +00:00)\n"
          ],
          "name": "stdout"
        }
      ]
    },
    {
      "cell_type": "code",
      "metadata": {
        "colab": {
          "base_uri": "https://localhost:8080/"
        },
        "id": "A0ijpnqvWFb5",
        "outputId": "70726e3e-dadf-4338-f631-3de5d2f51631"
      },
      "source": [
        "yas = YASStemmer(words)"
      ],
      "execution_count": 6,
      "outputs": [
        {
          "output_type": "stream",
          "text": [
            "time: 8.74 ms (started: 2021-03-07 17:46:37 +00:00)\n"
          ],
          "name": "stdout"
        }
      ]
    },
    {
      "cell_type": "markdown",
      "metadata": {
        "id": "5UGxvrdXq_Jj"
      },
      "source": [
        "Let's first check if our distance functions are working or not"
      ]
    },
    {
      "cell_type": "code",
      "metadata": {
        "colab": {
          "base_uri": "https://localhost:8080/"
        },
        "id": "x8UVtdbKq9r_",
        "outputId": "98af9541-c6c3-4dae-b398-d8d8b38a9b5d"
      },
      "source": [
        "for fn in [yas.D1, yas.D2, yas.D3, yas.D4]:\r\n",
        "  print(f'fn {fn} {fn(\"astronomer\",\"astronomically\")}')\r\n",
        "print('-'*100)\r\n",
        "for fn in [yas.D1, yas.D2, yas.D3, yas.D4]:\r\n",
        "  print(f'fn {fn} {fn(\"astronomer\", \"astonish\")}')\r\n"
      ],
      "execution_count": 7,
      "outputs": [
        {
          "output_type": "stream",
          "text": [
            "fn <bound method YASStemmer.D1 of <__main__.YASStemmer object at 0x7f36a2977b50>> 0.0076904296875\n",
            "fn <bound method YASStemmer.D2 of <__main__.YASStemmer object at 0x7f36a2977b50>> 0.24609375\n",
            "fn <bound method YASStemmer.D3 of <__main__.YASStemmer object at 0x7f36a2977b50>> 1.4765625\n",
            "fn <bound method YASStemmer.D4 of <__main__.YASStemmer object at 0x7f36a2977b50>> 0.84375\n",
            "----------------------------------------------------------------------------------------------------\n",
            "fn <bound method YASStemmer.D1 of <__main__.YASStemmer object at 0x7f36a2977b50>> 0.248046875\n",
            "fn <bound method YASStemmer.D2 of <__main__.YASStemmer object at 0x7f36a2977b50>> 0.6614583333333334\n",
            "fn <bound method YASStemmer.D3 of <__main__.YASStemmer object at 0x7f36a2977b50>> 4.630208333333333\n",
            "fn <bound method YASStemmer.D4 of <__main__.YASStemmer object at 0x7f36a2977b50>> 1.3890625\n",
            "time: 4 ms (started: 2021-03-07 16:00:57 +00:00)\n"
          ],
          "name": "stdout"
        }
      ]
    },
    {
      "cell_type": "markdown",
      "metadata": {
        "id": "ZqYvshZksXwJ"
      },
      "source": [
        "Here are the values from paper"
      ]
    },
    {
      "cell_type": "markdown",
      "metadata": {
        "id": "EmvGZ6g8sVWy"
      },
      "source": [
        "![image.png](data:image/png;base64,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)"
      ]
    },
    {
      "cell_type": "markdown",
      "metadata": {
        "id": "y1WWLP3SkmSW"
      },
      "source": [
        "# D1\n"
      ]
    },
    {
      "cell_type": "code",
      "metadata": {
        "colab": {
          "base_uri": "https://localhost:8080/"
        },
        "id": "cKBDaBT3W5bN",
        "outputId": "1263e749-975f-4f25-ea97-77f9c2c075b5"
      },
      "source": [
        "yas.DistanceMatrix(yas.D1, 2, True, '/gdrive/MyDrive/matrix/D1/')"
      ],
      "execution_count": 11,
      "outputs": [
        {
          "output_type": "stream",
          "text": [
            "Drive already mounted at /gdrive; to attempt to forcibly remount, call drive.mount(\"/gdrive\", force_remount=True).\n",
            "time: 19.4 s (started: 2021-03-07 16:06:02 +00:00)\n"
          ],
          "name": "stdout"
        }
      ]
    },
    {
      "cell_type": "code",
      "metadata": {
        "colab": {
          "base_uri": "https://localhost:8080/"
        },
        "id": "BYCq5TIoSaoV",
        "outputId": "a424811a-05b3-4538-a222-d3f7ba161a27"
      },
      "source": [
        "# yas.saveMatrices('/gdrive/MyDrive/matrix/D1')"
      ],
      "execution_count": 77,
      "outputs": [
        {
          "output_type": "stream",
          "text": [
            "Drive already mounted at /gdrive; to attempt to forcibly remount, call drive.mount(\"/gdrive\", force_remount=True).\n",
            "time: 16.4 s (started: 2021-03-07 13:51:36 +00:00)\n"
          ],
          "name": "stdout"
        }
      ]
    },
    {
      "cell_type": "code",
      "metadata": {
        "colab": {
          "base_uri": "https://localhost:8080/",
          "height": 314
        },
        "id": "vbDxJAeV_3_l",
        "outputId": "4b545f51-3c3c-431d-f5cd-72e0bc7648d8"
      },
      "source": [
        "x = np.linspace(0,1,10)\n",
        "plt.plot(x, [yas.performClustering(AgglomerativeClustering, 'single', i) for i in x], '-')\n",
        "plt.plot(x, [yas.performClustering(AgglomerativeClustering, 'complete', i) for i in x], '-')\n",
        "plt.plot(x, [yas.performClustering(AgglomerativeClustering, 'average', i) for i in x], '-')\n",
        "plt.legend(['Single', 'Complete', 'average'])\n",
        "plt.xlabel('Distance Threshold')\n",
        "plt.ylabel('Number of clusters')"
      ],
      "execution_count": 78,
      "outputs": [
        {
          "output_type": "execute_result",
          "data": {
            "text/plain": [
              "Text(0, 0.5, 'Number of clusters')"
            ]
          },
          "metadata": {
            "tags": []
          },
          "execution_count": 78
        },
        {
          "output_type": "display_data",
          "data": {
            "image/png": "[encoded data removed]",
            "text/plain": [
              "<Figure size 432x288 with 1 Axes>"
            ]
          },
          "metadata": {
            "tags": [],
            "needs_background": "light"
          }
        },
        {
          "output_type": "stream",
          "text": [
            "time: 3min 31s (started: 2021-03-07 13:51:56 +00:00)\n"
          ],
          "name": "stdout"
        }
      ]
    },
    {
      "cell_type": "code",
      "metadata": {
        "colab": {
          "base_uri": "https://localhost:8080/"
        },
        "id": "JoYIuNq17Gwo",
        "outputId": "5a60f042-c99b-48da-b3b6-f4dfbe92c8df"
      },
      "source": [
        "yas.performClustering(AgglomerativeClustering, 'average', 0.1)"
      ],
      "execution_count": 79,
      "outputs": [
        {
          "output_type": "execute_result",
          "data": {
            "text/plain": [
              "10446"
            ]
          },
          "metadata": {
            "tags": []
          },
          "execution_count": 79
        },
        {
          "output_type": "stream",
          "text": [
            "time: 10.1 s (started: 2021-03-07 13:55:32 +00:00)\n"
          ],
          "name": "stdout"
        }
      ]
    },
    {
      "cell_type": "code",
      "metadata": {
        "colab": {
          "base_uri": "https://localhost:8080/"
        },
        "id": "3_fcYwrf1LLi",
        "outputId": "0e1712e5-a172-4509-fbc2-d950d456ae39"
      },
      "source": [
        "yas.findCenter()"
      ],
      "execution_count": 80,
      "outputs": [
        {
          "output_type": "stream",
          "text": [
            "time: 436 ms (started: 2021-03-07 13:55:42 +00:00)\n"
          ],
          "name": "stdout"
        }
      ]
    },
    {
      "cell_type": "code",
      "metadata": {
        "colab": {
          "base_uri": "https://localhost:8080/"
        },
        "id": "Z_4ECRJ23zxm",
        "outputId": "9a4e41a1-11e4-4624-d205-ce7607aaf9c5"
      },
      "source": [
        "list(yas.clusterWords[4])"
      ],
      "execution_count": 81,
      "outputs": [
        {
          "output_type": "execute_result",
          "data": {
            "text/plain": [
              "['chare', 'chares', 'chary', 'charybdis']"
            ]
          },
          "metadata": {
            "tags": []
          },
          "execution_count": 81
        },
        {
          "output_type": "stream",
          "text": [
            "time: 4.1 ms (started: 2021-03-07 13:55:43 +00:00)\n"
          ],
          "name": "stdout"
        }
      ]
    },
    {
      "cell_type": "code",
      "metadata": {
        "id": "P8qq1K9KvQNk"
      },
      "source": [
        ""
      ],
      "execution_count": null,
      "outputs": []
    },
    {
      "cell_type": "code",
      "metadata": {
        "id": "yqgB2mjgvQFM"
      },
      "source": [
        ""
      ],
      "execution_count": null,
      "outputs": []
    },
    {
      "cell_type": "markdown",
      "metadata": {
        "id": "Ghq0UOvLkqpR"
      },
      "source": [
        "# D2"
      ]
    },
    {
      "cell_type": "code",
      "metadata": {
        "id": "BPcq7RMvkBeE"
      },
      "source": [
        "yas.DistanceMatrix(yas.D2, 2)"
      ],
      "execution_count": null,
      "outputs": []
    },
    {
      "cell_type": "code",
      "metadata": {
        "id": "kR4xHqLatCeV",
        "colab": {
          "base_uri": "https://localhost:8080/"
        },
        "outputId": "e054af6b-1155-4bf5-d180-70aaa49dd98a"
      },
      "source": [
        "yas.saveMatrices('/gdrive/MyDrive/matrix/D2')"
      ],
      "execution_count": 83,
      "outputs": [
        {
          "output_type": "stream",
          "text": [
            "Drive already mounted at /gdrive; to attempt to forcibly remount, call drive.mount(\"/gdrive\", force_remount=True).\n",
            "time: 16 s (started: 2021-03-07 14:00:29 +00:00)\n"
          ],
          "name": "stdout"
        }
      ]
    },
    {
      "cell_type": "code",
      "metadata": {
        "id": "3uW295xctCbg",
        "colab": {
          "base_uri": "https://localhost:8080/",
          "height": 330
        },
        "outputId": "872e9272-9fa6-4e93-bc78-bc5449f43d08"
      },
      "source": [
        "x = np.linspace(0,1,10)\n",
        "plt.plot(x, [yas.performClustering(AgglomerativeClustering, 'single', i) for i in x], '-')\n",
        "plt.plot(x, [yas.performClustering(AgglomerativeClustering, 'complete', i) for i in x], '-')\n",
        "plt.plot(x, [yas.performClustering(AgglomerativeClustering, 'average', i) for i in x], '-')\n",
        "plt.legend(['Single', 'Complete', 'average'])\n",
        "plt.xlabel('Distance Threshold')\n",
        "plt.ylabel('Number of clusters')\n",
        "plt.title('CLustering using D2 distance metric')"
      ],
      "execution_count": 84,
      "outputs": [
        {
          "output_type": "execute_result",
          "data": {
            "text/plain": [
              "Text(0.5, 1.0, 'CLustering using D3 distance metric')"
            ]
          },
          "metadata": {
            "tags": []
          },
          "execution_count": 84
        },
        {
          "output_type": "display_data",
          "data": {
            "image/png": "[encoded data removed]",
            "text/plain": [
              "<Figure size 432x288 with 1 Axes>"
            ]
          },
          "metadata": {
            "tags": [],
            "needs_background": "light"
          }
        },
        {
          "output_type": "stream",
          "text": [
            "time: 2min 34s (started: 2021-03-07 14:01:17 +00:00)\n"
          ],
          "name": "stdout"
        }
      ]
    },
    {
      "cell_type": "code",
      "metadata": {
        "id": "P1Dnjw_4tCZH",
        "colab": {
          "base_uri": "https://localhost:8080/"
        },
        "outputId": "dbf3ade7-963d-4547-a2d3-03449361bd25"
      },
      "source": [
        "yas.performClustering(AgglomerativeClustering, 'average', 0.4)"
      ],
      "execution_count": 85,
      "outputs": [
        {
          "output_type": "execute_result",
          "data": {
            "text/plain": [
              "10281"
            ]
          },
          "metadata": {
            "tags": []
          },
          "execution_count": 85
        },
        {
          "output_type": "stream",
          "text": [
            "time: 6.16 s (started: 2021-03-07 14:07:25 +00:00)\n"
          ],
          "name": "stdout"
        }
      ]
    },
    {
      "cell_type": "code",
      "metadata": {
        "id": "kQtp72DZtCWW",
        "colab": {
          "base_uri": "https://localhost:8080/"
        },
        "outputId": "79b25f7c-db65-40a7-fab8-09b2f92c065d"
      },
      "source": [
        "yas.findCenter()"
      ],
      "execution_count": 86,
      "outputs": [
        {
          "output_type": "stream",
          "text": [
            "time: 209 ms (started: 2021-03-07 14:07:31 +00:00)\n"
          ],
          "name": "stdout"
        }
      ]
    },
    {
      "cell_type": "code",
      "metadata": {
        "id": "NfQ971YstCTv",
        "colab": {
          "base_uri": "https://localhost:8080/"
        },
        "outputId": "6485cff5-dae8-4aa4-81e3-786807cd0346"
      },
      "source": [
        "list(yas.clusterWords[500])"
      ],
      "execution_count": 87,
      "outputs": [
        {
          "output_type": "execute_result",
          "data": {
            "text/plain": [
              "['catch', 'catcher', 'catches', 'catching']"
            ]
          },
          "metadata": {
            "tags": []
          },
          "execution_count": 87
        },
        {
          "output_type": "stream",
          "text": [
            "time: 3.51 ms (started: 2021-03-07 14:07:31 +00:00)\n"
          ],
          "name": "stdout"
        }
      ]
    },
    {
      "cell_type": "markdown",
      "metadata": {
        "id": "eup2kuRttEsx"
      },
      "source": [
        "# D3"
      ]
    },
    {
      "cell_type": "code",
      "metadata": {
        "id": "wxSSWp_OtF92"
      },
      "source": [
        "yas.DistanceMatrix(yas.D3, 2)"
      ],
      "execution_count": null,
      "outputs": []
    },
    {
      "cell_type": "code",
      "metadata": {
        "id": "RicJpn57tIwU",
        "colab": {
          "base_uri": "https://localhost:8080/"
        },
        "outputId": "d5833fef-7c0a-4bce-9476-b761a5ff2598"
      },
      "source": [
        "yas.saveMatrices('/gdrive/MyDrive/matrix/D3')"
      ],
      "execution_count": 89,
      "outputs": [
        {
          "output_type": "stream",
          "text": [
            "Drive already mounted at /gdrive; to attempt to forcibly remount, call drive.mount(\"/gdrive\", force_remount=True).\n",
            "time: 17 s (started: 2021-03-07 14:13:37 +00:00)\n"
          ],
          "name": "stdout"
        }
      ]
    },
    {
      "cell_type": "code",
      "metadata": {
        "id": "M6d8upBetItg",
        "colab": {
          "base_uri": "https://localhost:8080/",
          "height": 330
        },
        "outputId": "5ac7d254-d965-4515-8e09-cd7d6598ede4"
      },
      "source": [
        "x = np.linspace(0,2,10)\n",
        "plt.plot(x, [yas.performClustering(AgglomerativeClustering, 'single', i) for i in x], '-')\n",
        "plt.plot(x, [yas.performClustering(AgglomerativeClustering, 'complete', i) for i in x], '-')\n",
        "plt.plot(x, [yas.performClustering(AgglomerativeClustering, 'average', i) for i in x], '-')\n",
        "plt.legend(['Single', 'Complete', 'average'])\n",
        "plt.xlabel('Distance Threshold')\n",
        "plt.ylabel('Number of clusters')\n",
        "plt.title('CLustering using D3 distance metric')"
      ],
      "execution_count": 90,
      "outputs": [
        {
          "output_type": "execute_result",
          "data": {
            "text/plain": [
              "Text(0.5, 1.0, 'CLustering using D3 distance metric')"
            ]
          },
          "metadata": {
            "tags": []
          },
          "execution_count": 90
        },
        {
          "output_type": "display_data",
          "data": {
            "image/png": "[encoded data removed]",
            "text/plain": [
              "<Figure size 432x288 with 1 Axes>"
            ]
          },
          "metadata": {
            "tags": [],
            "needs_background": "light"
          }
        },
        {
          "output_type": "stream",
          "text": [
            "time: 2min 42s (started: 2021-03-07 14:14:09 +00:00)\n"
          ],
          "name": "stdout"
        }
      ]
    },
    {
      "cell_type": "code",
      "metadata": {
        "id": "PaINEMUItIq4",
        "colab": {
          "base_uri": "https://localhost:8080/"
        },
        "outputId": "754aa1c8-18c9-428a-96b1-58535387c6b3"
      },
      "source": [
        "yas.performClustering(AgglomerativeClustering, 'average', 1.2)"
      ],
      "execution_count": 91,
      "outputs": [
        {
          "output_type": "execute_result",
          "data": {
            "text/plain": [
              "10901"
            ]
          },
          "metadata": {
            "tags": []
          },
          "execution_count": 91
        },
        {
          "output_type": "stream",
          "text": [
            "time: 6.01 s (started: 2021-03-07 14:17:07 +00:00)\n"
          ],
          "name": "stdout"
        }
      ]
    },
    {
      "cell_type": "code",
      "metadata": {
        "id": "RODJZeFGtIoK",
        "colab": {
          "base_uri": "https://localhost:8080/"
        },
        "outputId": "565f33f5-8129-42a5-881c-7d9f30c3d712"
      },
      "source": [
        "yas.findCenter()"
      ],
      "execution_count": 92,
      "outputs": [
        {
          "output_type": "stream",
          "text": [
            "time: 51.5 ms (started: 2021-03-07 14:17:13 +00:00)\n"
          ],
          "name": "stdout"
        }
      ]
    },
    {
      "cell_type": "code",
      "metadata": {
        "id": "RNF6X0AgtIg4",
        "colab": {
          "base_uri": "https://localhost:8080/"
        },
        "outputId": "3401b7fc-65b9-4cfb-d306-f7aeea703d96"
      },
      "source": [
        "list(yas.clusterWords[175])"
      ],
      "execution_count": 97,
      "outputs": [
        {
          "output_type": "execute_result",
          "data": {
            "text/plain": [
              "['float', 'floated', 'floating']"
            ]
          },
          "metadata": {
            "tags": []
          },
          "execution_count": 97
        },
        {
          "output_type": "stream",
          "text": [
            "time: 9.71 ms (started: 2021-03-07 14:18:08 +00:00)\n"
          ],
          "name": "stdout"
        }
      ]
    },
    {
      "cell_type": "markdown",
      "metadata": {
        "id": "MqD5NqestJkl"
      },
      "source": [
        "# D4"
      ]
    },
    {
      "cell_type": "code",
      "metadata": {
        "id": "U6Fw3ODytK7v",
        "colab": {
          "base_uri": "https://localhost:8080/"
        },
        "outputId": "1917ecdd-809d-439f-b71a-62b656fb1849"
      },
      "source": [
        "yas.DistanceMatrix(yas.D4, 2, True, '/gdrive/MyDrive/matrix/D4/')"
      ],
      "execution_count": 7,
      "outputs": [
        {
          "output_type": "stream",
          "text": [
            "Mounted at /gdrive\n",
            "time: 43.3 s (started: 2021-03-07 17:46:42 +00:00)\n"
          ],
          "name": "stdout"
        }
      ]
    },
    {
      "cell_type": "code",
      "metadata": {
        "id": "YvPLeWUdtMMb",
        "colab": {
          "base_uri": "https://localhost:8080/"
        },
        "outputId": "6fc2e020-879f-4753-df13-5fd4249e23c7"
      },
      "source": [
        "# yas.saveMatrices('/gdrive/MyDrive/matrix/D4')"
      ],
      "execution_count": 8,
      "outputs": [
        {
          "output_type": "stream",
          "text": [
            "Drive already mounted at /gdrive; to attempt to forcibly remount, call drive.mount(\"/gdrive\", force_remount=True).\n",
            "time: 17.7 s (started: 2021-03-07 14:41:04 +00:00)\n"
          ],
          "name": "stdout"
        }
      ]
    },
    {
      "cell_type": "code",
      "metadata": {
        "id": "VxH6BW3otL6l",
        "colab": {
          "base_uri": "https://localhost:8080/",
          "height": 330
        },
        "outputId": "fdc280f2-0539-45f2-e87d-e6829ccf0e46"
      },
      "source": [
        "x = np.linspace(0,2,10)\n",
        "plt.plot(x, [yas.performClustering(AgglomerativeClustering, 'single', i) for i in x], '-')\n",
        "plt.plot(x, [yas.performClustering(AgglomerativeClustering, 'complete', i) for i in x], '-')\n",
        "plt.plot(x, [yas.performClustering(AgglomerativeClustering, 'average', i) for i in x], '-')\n",
        "plt.legend(['Single', 'Complete', 'average'])\n",
        "plt.xlabel('Distance Threshold')\n",
        "plt.ylabel('Number of clusters')\n",
        "plt.title('CLustering using D4 distance metric')"
      ],
      "execution_count": 9,
      "outputs": [
        {
          "output_type": "execute_result",
          "data": {
            "text/plain": [
              "Text(0.5, 1.0, 'CLustering using D4 distance metric')"
            ]
          },
          "metadata": {
            "tags": []
          },
          "execution_count": 9
        },
        {
          "output_type": "display_data",
          "data": {
            "image/png": "[encoded data removed]",
            "text/plain": [
              "<Figure size 432x288 with 1 Axes>"
            ]
          },
          "metadata": {
            "tags": [],
            "needs_background": "light"
          }
        },
        {
          "output_type": "stream",
          "text": [
            "time: 2min 26s (started: 2021-03-07 14:42:10 +00:00)\n"
          ],
          "name": "stdout"
        }
      ]
    },
    {
      "cell_type": "code",
      "metadata": {
        "id": "taljZEvZtL3u",
        "colab": {
          "base_uri": "https://localhost:8080/"
        },
        "outputId": "8b70159e-e402-4602-92c1-54fe58b494a4"
      },
      "source": [
        "yas.performClustering(AgglomerativeClustering, 'complete', 0.5)"
      ],
      "execution_count": 8,
      "outputs": [
        {
          "output_type": "execute_result",
          "data": {
            "text/plain": [
              "13689"
            ]
          },
          "metadata": {
            "tags": []
          },
          "execution_count": 8
        },
        {
          "output_type": "stream",
          "text": [
            "time: 6.78 s (started: 2021-03-07 17:47:36 +00:00)\n"
          ],
          "name": "stdout"
        }
      ]
    },
    {
      "cell_type": "code",
      "metadata": {
        "id": "9U3MoaQWtLyj",
        "colab": {
          "base_uri": "https://localhost:8080/"
        },
        "outputId": "708e532c-8b08-466a-cf43-1fcf0abace08"
      },
      "source": [
        "yas.findCenter()"
      ],
      "execution_count": 9,
      "outputs": [
        {
          "output_type": "stream",
          "text": [
            "time: 66.6 ms (started: 2021-03-07 17:47:42 +00:00)\n"
          ],
          "name": "stdout"
        }
      ]
    },
    {
      "cell_type": "code",
      "metadata": {
        "colab": {
          "base_uri": "https://localhost:8080/"
        },
        "id": "w840T744k4xC",
        "outputId": "e5c9bd64-fb6f-4ac3-9424-22a7406b9515"
      },
      "source": [
        "yasstem = yas.rootword()"
      ],
      "execution_count": 10,
      "outputs": [
        {
          "output_type": "stream",
          "text": [
            "time: 25 ms (started: 2021-03-07 17:47:42 +00:00)\n"
          ],
          "name": "stdout"
        }
      ]
    },
    {
      "cell_type": "code",
      "metadata": {
        "colab": {
          "base_uri": "https://localhost:8080/"
        },
        "id": "sDaNu3HMEW5V",
        "outputId": "f60ee5f9-c0e1-49a6-cbd3-4a6661731815"
      },
      "source": [
        "yas.clusterWords[124]"
      ],
      "execution_count": 11,
      "outputs": [
        {
          "output_type": "execute_result",
          "data": {
            "text/plain": [
              "['distress', 'distressed', 'distresses', 'distressful']"
            ]
          },
          "metadata": {
            "tags": []
          },
          "execution_count": 11
        },
        {
          "output_type": "stream",
          "text": [
            "time: 4.91 ms (started: 2021-03-07 17:47:43 +00:00)\n"
          ],
          "name": "stdout"
        }
      ]
    },
    {
      "cell_type": "markdown",
      "metadata": {
        "id": "50ghqLp0tM5T"
      },
      "source": [
        "# Levenshtein edit-distance"
      ]
    },
    {
      "cell_type": "code",
      "metadata": {
        "id": "lNmZkxnPfAsc",
        "colab": {
          "base_uri": "https://localhost:8080/"
        },
        "outputId": "a5730d32-5e67-4ed6-f79c-0b2f39d938f0"
      },
      "source": [
        "\n",
        "def _edit_dist_init(len1, len2):\n",
        "    lev = []\n",
        "    for i in range(len1):\n",
        "        lev.append([0] * len2)  # initialize 2D array to zero\n",
        "    for i in range(len1):\n",
        "        lev[i][0] = i  # column 0: 0,1,2,3,4,...\n",
        "    for j in range(len2):\n",
        "        lev[0][j] = j  # row 0: 0,1,2,3,4,...\n",
        "    return lev\n",
        "\n",
        "def _edit_dist_step(lev, i, j, s1, s2, substitution_cost=1, transpositions=False):\n",
        "    c1 = s1[i - 1]\n",
        "    c2 = s2[j - 1]\n",
        "\n",
        "    # skipping a character in s1\n",
        "    a = lev[i - 1][j] + 1\n",
        "    # skipping a character in s2\n",
        "    b = lev[i][j - 1] + 1\n",
        "    # substitution\n",
        "    c = lev[i - 1][j - 1] + (substitution_cost if c1 != c2 else 0)\n",
        "\n",
        "    # transposition\n",
        "    d = c + 1  # never picked by default\n",
        "    if transpositions and i > 1 and j > 1:\n",
        "        if s1[i - 2] == c2 and s2[j - 2] == c1:\n",
        "            d = lev[i - 2][j - 2] + 1\n",
        "\n",
        "    # pick the cheapest\n",
        "    lev[i][j] = min(a, b, c, d)\n",
        "  \n",
        "def edit_distance(s1, s2, substitution_cost=1, transpositions=False):\n",
        "    \"\"\"\n",
        "    Calculate the Levenshtein edit-distance between two strings.\n",
        "    \"\"\"\n",
        "    # set up a 2-D array\n",
        "    len1 = len(s1)\n",
        "    len2 = len(s2)\n",
        "    lev = _edit_dist_init(len1 + 1, len2 + 1)\n",
        "\n",
        "    # iterate over the array\n",
        "    for i in range(len1):\n",
        "        for j in range(len2):\n",
        "            _edit_dist_step(\n",
        "                lev,\n",
        "                i + 1,\n",
        "                j + 1,\n",
        "                s1,\n",
        "                s2,\n",
        "                substitution_cost=substitution_cost,\n",
        "                transpositions=transpositions,\n",
        "            )\n",
        "    return lev[len1][len2]"
      ],
      "execution_count": 27,
      "outputs": [
        {
          "output_type": "stream",
          "text": [
            "time: 76.1 ms (started: 2021-03-07 14:50:05 +00:00)\n"
          ],
          "name": "stdout"
        }
      ]
    },
    {
      "cell_type": "code",
      "metadata": {
        "id": "US3y32HwtXEa"
      },
      "source": [
        "yas.DistanceMatrix(edit_distance, 2)"
      ],
      "execution_count": null,
      "outputs": []
    },
    {
      "cell_type": "code",
      "metadata": {
        "id": "bzv-mcvFtX6M"
      },
      "source": [
        ""
      ],
      "execution_count": null,
      "outputs": []
    },
    {
      "cell_type": "code",
      "metadata": {
        "id": "09EXTzZStX3e"
      },
      "source": [
        ""
      ],
      "execution_count": null,
      "outputs": []
    },
    {
      "cell_type": "code",
      "metadata": {
        "id": "hmNRDWkltX1T"
      },
      "source": [
        ""
      ],
      "execution_count": null,
      "outputs": []
    },
    {
      "cell_type": "code",
      "metadata": {
        "id": "zpwfjsoYtXy1"
      },
      "source": [
        ""
      ],
      "execution_count": null,
      "outputs": []
    },
    {
      "cell_type": "markdown",
      "metadata": {
        "id": "BKX57eAgtYtu"
      },
      "source": [
        "# Retrieval Using pyterrier"
      ]
    },
    {
      "cell_type": "code",
      "metadata": {
        "colab": {
          "base_uri": "https://localhost:8080/"
        },
        "id": "8G2FXSvytdaw",
        "outputId": "56d7bc6c-3995-4727-d694-54323b32995b"
      },
      "source": [
        "%%capture\r\n",
        "!pip install --upgrade git+https://github.com/terrier-org/pyterrier.git #egg=python-terrier"
      ],
      "execution_count": 12,
      "outputs": [
        {
          "output_type": "stream",
          "text": [
            "time: 29 s (started: 2021-03-07 17:48:02 +00:00)\n"
          ],
          "name": "stdout"
        }
      ]
    },
    {
      "cell_type": "markdown",
      "metadata": {
        "id": "bbtA2Xgf1e9v"
      },
      "source": [
        "Let's first download configure the dataset."
      ]
    },
    {
      "cell_type": "code",
      "metadata": {
        "id": "IuIwx6Dv1d7n",
        "colab": {
          "base_uri": "https://localhost:8080/"
        },
        "outputId": "ba42fce5-274e-4510-e3b7-317edafd7521"
      },
      "source": [
        "%%capture\n",
        "!gdown https://drive.google.com/uc?id=1JuawXQmYVkjpfL3H0blqjDrqw8V1lHrC\n",
        "!unrar e /content/FIRE_Dataset_EN_2010.rar\n",
        "!gunzip /content/en.qrels.76-125.2010.txt.gz\n",
        "!tar -xzvf English-Data.tgz"
      ],
      "execution_count": 13,
      "outputs": [
        {
          "output_type": "stream",
          "text": [
            "time: 20 s (started: 2021-03-07 17:48:31 +00:00)\n"
          ],
          "name": "stdout"
        }
      ]
    },
    {
      "cell_type": "code",
      "metadata": {
        "colab": {
          "base_uri": "https://localhost:8080/"
        },
        "id": "PvSiyO0bgMVc",
        "outputId": "59d91e32-b361-444d-a9ce-90fdc127ea46"
      },
      "source": [
        "from nltk.corpus import stopwords\n",
        "nltk.download('stopwords')"
      ],
      "execution_count": 14,
      "outputs": [
        {
          "output_type": "stream",
          "text": [
            "[nltk_data] Downloading package stopwords to /root/nltk_data...\n",
            "[nltk_data]   Unzipping corpora/stopwords.zip.\n"
          ],
          "name": "stdout"
        },
        {
          "output_type": "execute_result",
          "data": {
            "text/plain": [
              "True"
            ]
          },
          "metadata": {
            "tags": []
          },
          "execution_count": 14
        },
        {
          "output_type": "stream",
          "text": [
            "time: 164 ms (started: 2021-03-07 17:48:51 +00:00)\n"
          ],
          "name": "stdout"
        }
      ]
    },
    {
      "cell_type": "code",
      "metadata": {
        "colab": {
          "base_uri": "https://localhost:8080/"
        },
        "id": "ZjQfCDWKgCB5",
        "outputId": "63afa7a0-46b9-45f1-e02a-e050904d1ecb"
      },
      "source": [
        "def remove_stopwords(words):\n",
        "  \"\"\"\n",
        "  Removes the stop words from a list of words\n",
        "  \"\"\"\n",
        "  engstopwords = stopwords.words('english')\n",
        "  nostopwords = filter(lambda x: x not in engstopwords and len(x) != 1, words)\n",
        "  return nostopwords\n"
      ],
      "execution_count": 15,
      "outputs": [
        {
          "output_type": "stream",
          "text": [
            "time: 3.51 ms (started: 2021-03-07 17:48:52 +00:00)\n"
          ],
          "name": "stdout"
        }
      ]
    },
    {
      "cell_type": "code",
      "metadata": {
        "colab": {
          "base_uri": "https://localhost:8080/"
        },
        "id": "58juTrXigGqA",
        "outputId": "876a3005-631d-4893-b25e-57c3b7762d54"
      },
      "source": [
        "def tokenize_words(text):\n",
        "  \"\"\"\n",
        "  The function tokenizes the words removes special characters, numbers and returns list of lowercase tokens\n",
        "  \"\"\"\n",
        "  text = text.lower()\n",
        "  tokens = nltk.regexp_tokenize(text, '[a-zA-Z]+', gaps=False)\n",
        "  \n",
        "  return tokens"
      ],
      "execution_count": 16,
      "outputs": [
        {
          "output_type": "stream",
          "text": [
            "time: 4.54 ms (started: 2021-03-07 17:48:52 +00:00)\n"
          ],
          "name": "stdout"
        }
      ]
    },
    {
      "cell_type": "code",
      "metadata": {
        "colab": {
          "base_uri": "https://localhost:8080/"
        },
        "id": "iwe8bG46iQXu",
        "outputId": "240ad683-fabe-493b-81a1-8ed97d3d8510"
      },
      "source": [
        "curry = lambda x: \" \".join(remove_stopwords(tokenize_words(x)))"
      ],
      "execution_count": 17,
      "outputs": [
        {
          "output_type": "stream",
          "text": [
            "time: 2.02 ms (started: 2021-03-07 17:48:52 +00:00)\n"
          ],
          "name": "stdout"
        }
      ]
    },
    {
      "cell_type": "code",
      "metadata": {
        "colab": {
          "base_uri": "https://localhost:8080/"
        },
        "id": "ckk6k1dx4nIg",
        "outputId": "942a0229-6160-49ce-bbf3-9117a3358c41"
      },
      "source": [
        "\n",
        "def porter_doc_iter():\n",
        "  for file in glob.iglob(\"TELEGRAPH_UTF8/**/*.utf8\", recursive=True):\n",
        "    yield {'doc': file.split('/')[-1], 'text': curry(open(file).read())}"
      ],
      "execution_count": 20,
      "outputs": [
        {
          "output_type": "stream",
          "text": [
            "time: 2 ms (started: 2021-03-07 17:49:32 +00:00)\n"
          ],
          "name": "stdout"
        }
      ]
    },
    {
      "cell_type": "code",
      "metadata": {
        "colab": {
          "base_uri": "https://localhost:8080/"
        },
        "id": "_sSjrLFYsKEc",
        "outputId": "9d4032fd-b21c-471c-8ef0-2ae794cbced5"
      },
      "source": [
        "yascurry = lambda x: \" \".join([yasstem[word] if word in words else word for word in tokenize_words(x)])\n"
      ],
      "execution_count": 21,
      "outputs": [
        {
          "output_type": "stream",
          "text": [
            "time: 2.84 ms (started: 2021-03-07 17:49:34 +00:00)\n"
          ],
          "name": "stdout"
        }
      ]
    },
    {
      "cell_type": "code",
      "metadata": {
        "colab": {
          "base_uri": "https://localhost:8080/"
        },
        "id": "_RhjD-x1sGxe",
        "outputId": "417f60e8-b3af-4e87-ab2a-d84358bee2a2"
      },
      "source": [
        "def yas_doc_iter():\n",
        "  for file in glob.iglob(\"TELEGRAPH_UTF8/**/*.utf8\", recursive=True):\n",
        "    yield {'doc': file.split('/')[-1], 'text': yascurry(open(file).read())}"
      ],
      "execution_count": 22,
      "outputs": [
        {
          "output_type": "stream",
          "text": [
            "time: 4.22 ms (started: 2021-03-07 17:49:36 +00:00)\n"
          ],
          "name": "stdout"
        }
      ]
    },
    {
      "cell_type": "code",
      "metadata": {
        "colab": {
          "base_uri": "https://localhost:8080/"
        },
        "id": "8tbmugm0teXe",
        "outputId": "01de478b-740c-47ea-85ba-5df621d24f54"
      },
      "source": [
        "import pyterrier as pt\n",
        "if not pt.started():\n",
        "    pt.init()\n",
        "\n"
      ],
      "execution_count": 23,
      "outputs": [
        {
          "output_type": "stream",
          "text": [
            "time: 6.34 ms (started: 2021-03-07 17:49:40 +00:00)\n"
          ],
          "name": "stdout"
        }
      ]
    },
    {
      "cell_type": "code",
      "metadata": {
        "colab": {
          "base_uri": "https://localhost:8080/"
        },
        "id": "8KZ8Og3-6cZ_",
        "outputId": "ea3c4e52-0ac1-415b-eccb-3dc7c910f53e"
      },
      "source": [
        "!rm -rf ./iter_index\n",
        "iter_indexer = pt.IterDictIndexer(\"./iter_index\")\n",
        "\n",
        "doc_iter = porter_doc_iter()\n",
        "porterindex = iter_indexer.index(doc_iter)"
      ],
      "execution_count": 24,
      "outputs": [
        {
          "output_type": "stream",
          "text": [
            "time: 4min 4s (started: 2021-03-07 17:49:54 +00:00)\n"
          ],
          "name": "stdout"
        }
      ]
    },
    {
      "cell_type": "code",
      "metadata": {
        "colab": {
          "base_uri": "https://localhost:8080/"
        },
        "id": "a3HgxA_UjEvy",
        "outputId": "dd18efa3-b6a2-435a-cdcd-6d1cb422db39"
      },
      "source": [
        "! rm -rf ./yass_iter_indexer\n",
        "yassindex = pt.IterDictIndexer(\"./yass_iter_indexer\")\n",
        "yassindex.setProperty(\"termpipelines\",\"\")\n",
        "\n",
        "yas_iter = yas_doc_iter()\n",
        "yasindex = yassindex.index(yas_iter)"
      ],
      "execution_count": 2,
      "outputs": [
        {
          "output_type": "stream",
          "text": [
            "time: 6min 2s (started: 2021-03-07 17:55:51 +00:00)\n"
          ],
          "name": "stdout"
        }
      ]
    },
    {
      "cell_type": "code",
      "metadata": {
        "colab": {
          "base_uri": "https://localhost:8080/"
        },
        "id": "-EEZeiJbuPs5",
        "outputId": "1951b867-a020-4095-a89d-0f5b301fd35c"
      },
      "source": [
        "tdidf_porterstemmer = pt.BatchRetrieve(porterindex, controls = {\"wmodel\":\"TF_IDF\"}, properties = {\"termpipelines\":\"PorterStemmer\"})"
      ],
      "execution_count": 1,
      "outputs": [
        {
          "output_type": "stream",
          "text": [
            "time: 45.5 ms (started: 2021-03-07 18:02:54 +00:00)\n"
          ],
          "name": "stdout"
        }
      ]
    },
    {
      "cell_type": "code",
      "metadata": {
        "colab": {
          "base_uri": "https://localhost:8080/"
        },
        "id": "8ObEk0ClucE2",
        "outputId": "b4f9f268-c021-4674-aed9-a33d284b331e"
      },
      "source": [
        "tdidf_yass = pt.BatchRetrieve(yasindex, controls = {\"wmodel\":\"TF_IDF\"}, properties = {\"termpipelines\":\"Stopwords\"})"
      ],
      "execution_count": 4,
      "outputs": [
        {
          "output_type": "stream",
          "text": [
            "time: 53.7 ms (started: 2021-03-07 17:49:54 +00:00)\n"
          ],
          "name": "stdout"
        }
      ]
    },
    {
      "cell_type": "code",
      "metadata": {
        "colab": {
          "base_uri": "https://localhost:8080/"
        },
        "id": "qaka9BtMteUX",
        "outputId": "2235d17e-4cbe-4156-e36f-dc763d943890"
      },
      "source": [
        "qstr = open(\"/content/en.topics.76-125.2010.txt\").read()"
      ],
      "execution_count": 24,
      "outputs": [
        {
          "output_type": "stream",
          "text": [
            "time: 5.45 ms (started: 2021-03-07 16:32:55 +00:00)\n"
          ],
          "name": "stdout"
        }
      ]
    },
    {
      "cell_type": "code",
      "metadata": {
        "colab": {
          "base_uri": "https://localhost:8080/"
        },
        "id": "SBKD9j5tteSo",
        "outputId": "64a6a07a-569c-46f7-d023-9bee173763b1"
      },
      "source": [
        "\n",
        "ls = qstr.split('</top>')[:-1]\n",
        "topics = pd.concat([pd.DataFrame([[BeautifulSoup(query, 'lxml').find('num').text, \n",
        "        curry(BeautifulSoup(query, 'lxml').find('desc').text.replace('\\n', \" \"))]], \n",
        "        columns=['qid', 'query']) for query in ls], ignore_index=True)\n",
        "\n"
      ],
      "execution_count": 26,
      "outputs": [
        {
          "output_type": "stream",
          "text": [
            "time: 155 ms (started: 2021-03-07 16:35:38 +00:00)\n"
          ],
          "name": "stdout"
        }
      ]
    },
    {
      "cell_type": "code",
      "metadata": {
        "colab": {
          "base_uri": "https://localhost:8080/",
          "height": 224
        },
        "id": "Zy5O_L6YrZVA",
        "outputId": "b8a9c8a1-f2e0-4790-c8df-0f4d69e801fe"
      },
      "source": [
        "topics.head()"
      ],
      "execution_count": 27,
      "outputs": [
        {
          "output_type": "execute_result",
          "data": {
            "text/html": [
              "<div>\n",
              "<style scoped>\n",
              "    .dataframe tbody tr th:only-of-type {\n",
              "        vertical-align: middle;\n",
              "    }\n",
              "\n",
              "    .dataframe tbody tr th {\n",
              "        vertical-align: top;\n",
              "    }\n",
              "\n",
              "    .dataframe thead th {\n",
              "        text-align: right;\n",
              "    }\n",
              "</style>\n",
              "<table border=\"1\" class=\"dataframe\">\n",
              "  <thead>\n",
              "    <tr style=\"text-align: right;\">\n",
              "      <th></th>\n",
              "      <th>qid</th>\n",
              "      <th>query</th>\n",
              "    </tr>\n",
              "  </thead>\n",
              "  <tbody>\n",
              "    <tr>\n",
              "      <th>0</th>\n",
              "      <td>76</td>\n",
              "      <td>reasons behind protests meena leaders inclusio...</td>\n",
              "    </tr>\n",
              "    <tr>\n",
              "      <th>1</th>\n",
              "      <td>77</td>\n",
              "      <td>attacks hezbollah guerrillas indian israeli fo...</td>\n",
              "    </tr>\n",
              "    <tr>\n",
              "      <th>2</th>\n",
              "      <td>78</td>\n",
              "      <td>conflict ashok singhal president vishwa hindu ...</td>\n",
              "    </tr>\n",
              "    <tr>\n",
              "      <th>3</th>\n",
              "      <td>79</td>\n",
              "      <td>plans build road china mount everest</td>\n",
              "    </tr>\n",
              "    <tr>\n",
              "      <th>4</th>\n",
              "      <td>80</td>\n",
              "      <td>initiation legal proceedings advani involvemen...</td>\n",
              "    </tr>\n",
              "  </tbody>\n",
              "</table>\n",
              "</div>"
            ],
            "text/plain": [
              "  qid                                              query\n",
              "0  76  reasons behind protests meena leaders inclusio...\n",
              "1  77  attacks hezbollah guerrillas indian israeli fo...\n",
              "2  78  conflict ashok singhal president vishwa hindu ...\n",
              "3  79               plans build road china mount everest\n",
              "4  80  initiation legal proceedings advani involvemen..."
            ]
          },
          "metadata": {
            "tags": []
          },
          "execution_count": 27
        },
        {
          "output_type": "stream",
          "text": [
            "time: 35.4 ms (started: 2021-03-07 16:35:43 +00:00)\n"
          ],
          "name": "stdout"
        }
      ]
    },
    {
      "cell_type": "code",
      "metadata": {
        "colab": {
          "base_uri": "https://localhost:8080/",
          "height": 224
        },
        "id": "Kv30td4mkoxm",
        "outputId": "54772fd6-e321-4963-e3a0-51f98cc19385"
      },
      "source": [
        "estr = open(\"/content/en.qrels.76-125.2010.txt\").read().split('\\n')\n",
        "elist = [est for est in estr if est.endswith('1')]\n",
        "elist = [e.split(' ') for e in elist ]\n",
        "qrels = pd.concat([pd.DataFrame([[e[0], e[2], e[3]]], \n",
        "        columns=['qid', 'docno','label']) for e in elist], ignore_index=True)\n",
        "\n",
        "qrels.head()"
      ],
      "execution_count": 28,
      "outputs": [
        {
          "output_type": "execute_result",
          "data": {
            "text/html": [
              "<div>\n",
              "<style scoped>\n",
              "    .dataframe tbody tr th:only-of-type {\n",
              "        vertical-align: middle;\n",
              "    }\n",
              "\n",
              "    .dataframe tbody tr th {\n",
              "        vertical-align: top;\n",
              "    }\n",
              "\n",
              "    .dataframe thead th {\n",
              "        text-align: right;\n",
              "    }\n",
              "</style>\n",
              "<table border=\"1\" class=\"dataframe\">\n",
              "  <thead>\n",
              "    <tr style=\"text-align: right;\">\n",
              "      <th></th>\n",
              "      <th>qid</th>\n",
              "      <th>docno</th>\n",
              "      <th>label</th>\n",
              "    </tr>\n",
              "  </thead>\n",
              "  <tbody>\n",
              "    <tr>\n",
              "      <th>0</th>\n",
              "      <td>76</td>\n",
              "      <td>1070530_nation_story_7849973.utf8</td>\n",
              "      <td>1</td>\n",
              "    </tr>\n",
              "    <tr>\n",
              "      <th>1</th>\n",
              "      <td>76</td>\n",
              "      <td>1070602_nation_story_7865940.utf8</td>\n",
              "      <td>1</td>\n",
              "    </tr>\n",
              "    <tr>\n",
              "      <th>2</th>\n",
              "      <td>76</td>\n",
              "      <td>1070603_nation_story_7869357.utf8</td>\n",
              "      <td>1</td>\n",
              "    </tr>\n",
              "    <tr>\n",
              "      <th>3</th>\n",
              "      <td>76</td>\n",
              "      <td>1070611_nation_story_7906812.utf8</td>\n",
              "      <td>1</td>\n",
              "    </tr>\n",
              "    <tr>\n",
              "      <th>4</th>\n",
              "      <td>77</td>\n",
              "      <td>1050110_foreign_story_4234881.utf8</td>\n",
              "      <td>1</td>\n",
              "    </tr>\n",
              "  </tbody>\n",
              "</table>\n",
              "</div>"
            ],
            "text/plain": [
              "  qid                               docno label\n",
              "0  76   1070530_nation_story_7849973.utf8     1\n",
              "1  76   1070602_nation_story_7865940.utf8     1\n",
              "2  76   1070603_nation_story_7869357.utf8     1\n",
              "3  76   1070611_nation_story_7906812.utf8     1\n",
              "4  77  1050110_foreign_story_4234881.utf8     1"
            ]
          },
          "metadata": {
            "tags": []
          },
          "execution_count": 28
        },
        {
          "output_type": "stream",
          "text": [
            "time: 399 ms (started: 2021-03-07 16:36:00 +00:00)\n"
          ],
          "name": "stdout"
        }
      ]
    },
    {
      "cell_type": "code",
      "metadata": {
        "id": "OZG-kI0_mvX7",
        "colab": {
          "base_uri": "https://localhost:8080/"
        },
        "outputId": "94e3f499-c1f8-4087-c461-58373785c642"
      },
      "source": [
        "experiment = pt.Experiment(\n",
        "    [tdidf_yass, tdidf_porterstemmer],\n",
        "    topics, \n",
        "    qrels, \n",
        "    eval_metrics = [\"map\"],\n",
        "    names =[\"yass-stemmer\",\"porter-stemmer\"])"
      ],
      "execution_count": 5,
      "outputs": [
        {
          "output_type": "stream",
          "text": [
            "time: 2min 34s (started: 2021-03-07 18:21:51 +00:00)\n"
          ],
          "name": "stdout"
        }
      ]
    },
    {
      "cell_type": "code",
      "metadata": {
        "colab": {
          "base_uri": "https://localhost:8080/",
          "height": 129
        },
        "id": "nhc8vP933BFS",
        "outputId": "af2f5290-dedf-4c18-893c-4e7cae903471"
      },
      "source": [
        "experiment"
      ],
      "execution_count": 11,
      "outputs": [
        {
          "output_type": "execute_result",
          "data": {
            "text/html": [
              "<div>\n",
              "<style scoped>\n",
              "    .dataframe tbody tr th:only-of-type {\n",
              "        vertical-align: middle;\n",
              "    }\n",
              "\n",
              "    .dataframe tbody tr th {\n",
              "        vertical-align: top;\n",
              "    }\n",
              "\n",
              "    .dataframe thead th {\n",
              "        text-align: right;\n",
              "    }\n",
              "</style>\n",
              "<table border=\"1\" class=\"dataframe\">\n",
              "  <thead>\n",
              "    <tr style=\"text-align: right;\">\n",
              "      <th></th>\n",
              "      <th>name</th>\n",
              "      <th>map</th>\n",
              "    </tr>\n",
              "  </thead>\n",
              "  <tbody>\n",
              "    <tr>\n",
              "      <th>0</th>\n",
              "      <td>yass-stemmer</td>\n",
              "      <td>0.46539</td>\n",
              "    </tr>\n",
              "    <tr>\n",
              "      <th>1</th>\n",
              "      <td>porter-stemmer</td>\n",
              "      <td>0.38727</td>\n",
              "    </tr>\n",
              "  </tbody>\n",
              "</table>\n",
              "</div>"
            ],
            "text/plain": [
              "             name      map\n",
              "0    yass-stemmer  0.46539\n",
              "1  porter-stemmer  0.38727"
            ]
          },
          "metadata": {
            "tags": []
          },
          "execution_count": 11
        },
        {
          "output_type": "stream",
          "text": [
            "time: 16.6 ms (started: 2021-03-07 18:21:16 +00:00)\n"
          ],
          "name": "stdout"
        }
      ]
    },
    {
      "cell_type": "code",
      "metadata": {
        "id": "e9mAdywx6vVc"
      },
      "source": [
        ""
      ],
      "execution_count": null,
      "outputs": []
    }
  ]
}