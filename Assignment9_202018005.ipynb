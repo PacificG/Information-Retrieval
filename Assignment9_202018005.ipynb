{
  "nbformat": 4,
  "nbformat_minor": 0,
  "metadata": {
    "colab": {
      "name": "Assignment9_202018005.ipynb",
      "provenance": [],
      "collapsed_sections": []
    },
    "kernelspec": {
      "name": "python3",
      "display_name": "Python 3"
    },
    "language_info": {
      "name": "python"
    }
  },
  "cells": [
    {
      "cell_type": "markdown",
      "metadata": {
        "id": "s7uf1lz2mm9u"
      },
      "source": [
        "#Assignment 9 \n",
        "\n"
      ]
    },
    {
      "cell_type": "code",
      "metadata": {
        "colab": {
          "base_uri": "https://localhost:8080/"
        },
        "id": "NOtAZjbMm-vJ",
        "outputId": "b9ebfaba-9124-47e8-d1c5-b6fb9b8203ec"
      },
      "source": [
        "!pip install scikit-surprise"
      ],
      "execution_count": 1,
      "outputs": [
        {
          "output_type": "stream",
          "text": [
            "Collecting scikit-surprise\n",
            "\u001b[?25l  Downloading https://files.pythonhosted.org/packages/97/37/5d334adaf5ddd65da99fc65f6507e0e4599d092ba048f4302fe8775619e8/scikit-surprise-1.1.1.tar.gz (11.8MB)\n",
            "\u001b[K     |████████████████████████████████| 11.8MB 4.1MB/s \n",
            "\u001b[?25hRequirement already satisfied: joblib>=0.11 in /usr/local/lib/python3.7/dist-packages (from scikit-surprise) (1.0.1)\n",
            "Requirement already satisfied: numpy>=1.11.2 in /usr/local/lib/python3.7/dist-packages (from scikit-surprise) (1.19.5)\n",
            "Requirement already satisfied: scipy>=1.0.0 in /usr/local/lib/python3.7/dist-packages (from scikit-surprise) (1.4.1)\n",
            "Requirement already satisfied: six>=1.10.0 in /usr/local/lib/python3.7/dist-packages (from scikit-surprise) (1.15.0)\n",
            "Building wheels for collected packages: scikit-surprise\n",
            "  Building wheel for scikit-surprise (setup.py) ... \u001b[?25l\u001b[?25hdone\n",
            "  Created wheel for scikit-surprise: filename=scikit_surprise-1.1.1-cp37-cp37m-linux_x86_64.whl size=1617570 sha256=5643b4009a7eef2fd0801d68eca05709e987af4ca0171fd0a96422793ce28dae\n",
            "  Stored in directory: /root/.cache/pip/wheels/78/9c/3d/41b419c9d2aff5b6e2b4c0fc8d25c538202834058f9ed110d0\n",
            "Successfully built scikit-surprise\n",
            "Installing collected packages: scikit-surprise\n",
            "Successfully installed scikit-surprise-1.1.1\n"
          ],
          "name": "stdout"
        }
      ]
    },
    {
      "cell_type": "code",
      "metadata": {
        "id": "11oQ5rnowXNP"
      },
      "source": [
        "from surprise import Dataset\n",
        "from surprise.model_selection import train_test_split\n",
        "from surprise import accuracy\n",
        "from surprise import KNNBasic\n",
        "from surprise.model_selection import cross_validate\n",
        "import math"
      ],
      "execution_count": 2,
      "outputs": []
    },
    {
      "cell_type": "markdown",
      "metadata": {
        "id": "yBfv29F6wh39"
      },
      "source": [
        "# Dataset"
      ]
    },
    {
      "cell_type": "code",
      "metadata": {
        "colab": {
          "base_uri": "https://localhost:8080/"
        },
        "id": "-Dn4qCobnl7J",
        "outputId": "7f679ea9-780f-4ab1-dce4-d70841966343"
      },
      "source": [
        "from surprise import Dataset\n",
        "import numpy as np\n",
        "\n",
        "data = Dataset.load_builtin('ml-100k')"
      ],
      "execution_count": 3,
      "outputs": [
        {
          "output_type": "stream",
          "text": [
            "Dataset ml-100k could not be found. Do you want to download it? [Y/n] Y\n",
            "Trying to download dataset from http://files.grouplens.org/datasets/movielens/ml-100k.zip...\n",
            "Done! Dataset ml-100k has been saved to /root/.surprise_data/ml-100k\n"
          ],
          "name": "stdout"
        }
      ]
    },
    {
      "cell_type": "markdown",
      "metadata": {
        "id": "ACE0xqFuwkNG"
      },
      "source": [
        "# Item based"
      ]
    },
    {
      "cell_type": "code",
      "metadata": {
        "colab": {
          "base_uri": "https://localhost:8080/"
        },
        "id": "2b3eF3T2oZcZ",
        "outputId": "3cfc7499-6834-48b1-d2bb-f7b7e23c5763"
      },
      "source": [
        "sim_options = {\n",
        "    \"name\": \"cosine\",\n",
        "    \"user_based\": False \n",
        "}\n",
        "knn = KNNBasic(sim_options = sim_options)\n",
        "validate = cross_validate(knn, data, measures=['RMSE'], cv=5, verbose=True)"
      ],
      "execution_count": 4,
      "outputs": [
        {
          "output_type": "stream",
          "text": [
            "Computing the cosine similarity matrix...\n",
            "Done computing similarity matrix.\n",
            "Computing the cosine similarity matrix...\n",
            "Done computing similarity matrix.\n",
            "Computing the cosine similarity matrix...\n",
            "Done computing similarity matrix.\n",
            "Computing the cosine similarity matrix...\n",
            "Done computing similarity matrix.\n",
            "Computing the cosine similarity matrix...\n",
            "Done computing similarity matrix.\n",
            "Evaluating RMSE of algorithm KNNBasic on 5 split(s).\n",
            "\n",
            "                  Fold 1  Fold 2  Fold 3  Fold 4  Fold 5  Mean    Std     \n",
            "RMSE (testset)    1.0293  1.0261  1.0312  1.0192  1.0240  1.0260  0.0042  \n",
            "Fit time          1.71    1.65    1.70    1.67    1.71    1.69    0.02    \n",
            "Test time         4.26    4.27    4.30    4.34    4.27    4.29    0.03    \n"
          ],
          "name": "stdout"
        }
      ]
    },
    {
      "cell_type": "code",
      "metadata": {
        "colab": {
          "base_uri": "https://localhost:8080/"
        },
        "id": "r6JqCgDYmqll",
        "outputId": "2f32f60f-dfcb-407e-97ab-cc86e9b2ce6d"
      },
      "source": [
        "train, test = train_test_split(data,test_size=.20)\n",
        "\n",
        "knn.fit(train)\n",
        "predictions = knn.test(test)\n",
        "acc_rmse = accuracy.rmse(predictions, verbose = True)\n",
        "print(\"Accuracy using RMSE on test data predictions\", acc_rmse)"
      ],
      "execution_count": 10,
      "outputs": [
        {
          "output_type": "stream",
          "text": [
            "Computing the cosine similarity matrix...\n",
            "Done computing similarity matrix.\n",
            "RMSE: 1.0212\n",
            "Accuracy using RMSE on test data predictions 1.021173153423203\n"
          ],
          "name": "stdout"
        }
      ]
    },
    {
      "cell_type": "markdown",
      "metadata": {
        "id": "u-cTRsqRw8zu"
      },
      "source": [
        "# User Based"
      ]
    },
    {
      "cell_type": "code",
      "metadata": {
        "colab": {
          "base_uri": "https://localhost:8080/"
        },
        "id": "_CwF81dOHHz0",
        "outputId": "4634875f-3ee0-4bbe-fd6f-73b852cf3bc2"
      },
      "source": [
        "sim_options = {\n",
        "    \"name\": \"cosine\",\n",
        "    \"user_based\": True\n",
        "}\n",
        "knn = KNNBasic(sim_options = sim_options)\n",
        "validate = cross_validate(knn, data, measures=['RMSE'], cv=5, verbose=True)"
      ],
      "execution_count": 7,
      "outputs": [
        {
          "output_type": "stream",
          "text": [
            "Computing the cosine similarity matrix...\n",
            "Done computing similarity matrix.\n",
            "Computing the cosine similarity matrix...\n",
            "Done computing similarity matrix.\n",
            "Computing the cosine similarity matrix...\n",
            "Done computing similarity matrix.\n",
            "Computing the cosine similarity matrix...\n",
            "Done computing similarity matrix.\n",
            "Computing the cosine similarity matrix...\n",
            "Done computing similarity matrix.\n",
            "Evaluating RMSE of algorithm KNNBasic on 5 split(s).\n",
            "\n",
            "                  Fold 1  Fold 2  Fold 3  Fold 4  Fold 5  Mean    Std     \n",
            "RMSE (testset)    1.0138  1.0207  1.0248  1.0156  1.0108  1.0171  0.0050  \n",
            "Fit time          0.99    1.03    1.15    1.05    1.05    1.05    0.05    \n",
            "Test time         3.90    3.75    3.96    3.83    3.80    3.85    0.07    \n"
          ],
          "name": "stdout"
        }
      ]
    },
    {
      "cell_type": "code",
      "metadata": {
        "colab": {
          "base_uri": "https://localhost:8080/"
        },
        "id": "joewamYBKZnZ",
        "outputId": "9401fcdb-a8da-48ad-86ff-7d5bd9a6eea6"
      },
      "source": [
        "train, test = train_test_split(data,test_size=.20)\n",
        "\n",
        "knn.fit(train)\n",
        "predictions = knn.test(test)\n",
        "acc_rmse = accuracy.rmse(predictions, verbose = True)\n",
        "print(\"Accuracy using RMSE on test data predictions \", acc_rmse)"
      ],
      "execution_count": 9,
      "outputs": [
        {
          "output_type": "stream",
          "text": [
            "Computing the cosine similarity matrix...\n",
            "Done computing similarity matrix.\n",
            "RMSE: 1.0047\n",
            "Accuracy using RMSE on test data predictions  1.0046615244326336\n"
          ],
          "name": "stdout"
        }
      ]
    },
    {
      "cell_type": "code",
      "metadata": {
        "id": "z2BGWvWpxB3i"
      },
      "source": [
        ""
      ],
      "execution_count": null,
      "outputs": []
    }
  ]
}