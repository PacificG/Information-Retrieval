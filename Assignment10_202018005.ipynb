{
  "nbformat": 4,
  "nbformat_minor": 0,
  "metadata": {
    "colab": {
      "name": "Assignment10_202018005.ipynb",
      "provenance": [],
      "collapsed_sections": []
    },
    "kernelspec": {
      "name": "python3",
      "display_name": "Python 3"
    },
    "language_info": {
      "name": "python"
    }
  },
  "cells": [
    {
      "cell_type": "code",
      "metadata": {
        "id": "R8dR7DOFK5m4"
      },
      "source": [
        "%%capture\n",
        "!pip install sumy\n",
        "!pip install rouge-score"
      ],
      "execution_count": 1,
      "outputs": []
    },
    {
      "cell_type": "code",
      "metadata": {
        "colab": {
          "base_uri": "https://localhost:8080/"
        },
        "id": "-UZqIiCuQwQK",
        "outputId": "48258ac8-aa96-442c-9b10-218222f67743"
      },
      "source": [
        "import sumy, os, nltk\n",
        "from sumy.summarizers.lex_rank import LexRankSummarizer\n",
        "from sumy.nlp.tokenizers import Tokenizer\n",
        "from sumy.parsers.plaintext import PlaintextParser\n",
        "from rouge_score import rouge_scorer\n",
        "import pandas as pd\n",
        "from sumy.summarizers.text_rank import TextRankSummarizer\n",
        "nltk.download('punkt')"
      ],
      "execution_count": 7,
      "outputs": [
        {
          "output_type": "stream",
          "text": [
            "[nltk_data] Downloading package punkt to /root/nltk_data...\n",
            "[nltk_data]   Unzipping tokenizers/punkt.zip.\n"
          ],
          "name": "stdout"
        },
        {
          "output_type": "execute_result",
          "data": {
            "text/plain": [
              "True"
            ]
          },
          "metadata": {
            "tags": []
          },
          "execution_count": 7
        }
      ]
    },
    {
      "cell_type": "code",
      "metadata": {
        "colab": {
          "base_uri": "https://localhost:8080/"
        },
        "id": "KsgIuoCBRudZ",
        "outputId": "7c35e54e-db08-45b9-e027-72f736426582"
      },
      "source": [
        "!gdown https://drive.google.com/uc?id=1epJmR0cAV65GIgflnmJpXHXwkC5BYuU6"
      ],
      "execution_count": 8,
      "outputs": [
        {
          "output_type": "stream",
          "text": [
            "Downloading...\n",
            "From: https://drive.google.com/uc?id=1epJmR0cAV65GIgflnmJpXHXwkC5BYuU6\n",
            "To: /content/BBC Business News.zip\n",
            "\r  0% 0.00/928k [00:00<?, ?B/s]\r100% 928k/928k [00:00<00:00, 14.7MB/s]\n"
          ],
          "name": "stdout"
        }
      ]
    },
    {
      "cell_type": "code",
      "metadata": {
        "id": "_-IIhuZOzonc"
      },
      "source": [
        "%%capture\n",
        "!unzip /content/BBC\\ Business\\ News.zip"
      ],
      "execution_count": 9,
      "outputs": []
    },
    {
      "cell_type": "code",
      "metadata": {
        "id": "Hl_CP-1dSXw5"
      },
      "source": [
        "article_path = \"/content/BBC Business News/News Articles/business\"\n",
        "summary_path = \"/content/BBC Business News/Summaries/business\"\n",
        "articles_names = os.listdir(article_path)\n",
        "\n",
        "\n",
        "class Summarizer:\n",
        "  def __init__(self):\n",
        "    self.summarylist = []\n",
        "    self.r1scoreslist = []\n",
        "    self.r2scoreslist = []\n",
        "    self.sentence_counts = []\n",
        "\n",
        "  def summarizer(self, summarizerInstance, articles_names, sentence_counts):\n",
        "    self.sentence_counts = sentence_counts\n",
        "    summarizer = summarizerInstance\n",
        "    scorer = rouge_scorer.RougeScorer(['rouge1', 'rouge2'], use_stemmer=False)\n",
        "\n",
        "    for sentence_count in sentence_counts:\n",
        "      r1scores = dict()\n",
        "      r2scores = dict()\n",
        "      summaries = dict()\n",
        "      for article_name in articles_names:\n",
        "        article = open(article_path+\"/\"+article_name, \"r\").read()\n",
        "        orig_summary = open(summary_path+\"/\"+article_name, \"r\").read()\n",
        "        parser = PlaintextParser.from_string(article, Tokenizer(\"english\"))\n",
        "        summary = summarizer(parser.document, sentence_count)\n",
        "        summary = \" \".join([\" \".join(i.words) for i in summary ])\n",
        "        summaries[article_name] = summary\n",
        "        scores = scorer.score(summary,orig_summary)\n",
        "        r1scores[article_name] = scores[\"rouge1\"]\n",
        "        r2scores[article_name] = scores[\"rouge2\"]\n",
        "      self.r1scoreslist.append(r1scores)\n",
        "      self.r2scoreslist.append(r2scores)\n",
        "      self.summarylist.append(summaries)\n",
        "      \n",
        "  def rouge1_score(self):\n",
        "    df_list = dict()\n",
        "    for index in range(len(self.sentence_counts)):\n",
        "      df_list[self.sentence_counts[index]] = pd.DataFrame(self.r1scoreslist[index], index=[\"Precision\", \"Recall\", \"Fmeasure\"]).transpose()\n",
        "    return df_list\n",
        "\n",
        "  def rouge2_score(self):\n",
        "    df_list = dict()\n",
        "    for index in range(len(self.sentence_counts)):\n",
        "      df_list[self.sentence_counts[index]] = pd.DataFrame(self.r2scoreslist[index], index=[\"Precision\", \"Recall\", \"Fmeasure\"]).transpose()\n",
        "    return df_list\n"
      ],
      "execution_count": 10,
      "outputs": []
    },
    {
      "cell_type": "code",
      "metadata": {
        "id": "HimnYgVam4s8"
      },
      "source": [
        "lexsum = Summarizer()\n",
        "lexsum.summarizer(LexRankSummarizer(), articles_names, [10,15,20,25])"
      ],
      "execution_count": 11,
      "outputs": []
    },
    {
      "cell_type": "code",
      "metadata": {
        "colab": {
          "base_uri": "https://localhost:8080/",
          "height": 225
        },
        "id": "SmEoM2NTtkhg",
        "outputId": "dd0a5482-1659-4a4c-921d-c42aa4a97478"
      },
      "source": [
        "print(\"LexRank Summarizer\\n\", \"-\"*200)\n",
        "scores1 = lexsum.rouge1_score()\n",
        "scores2 = lexsum.rouge2_score()\n",
        "\n",
        "df = pd.DataFrame([scores1.keys(), [score.mean(axis =0).Precision for score in scores1.values()]\n",
        "                  , [score.mean(axis =0).Precision for score in scores2.values()]],\n",
        "                  index = [\"Sentence count\",\"Rogue 1 \", \"Rogue 2\"]).transpose()\n",
        "df"
      ],
      "execution_count": 12,
      "outputs": [
        {
          "output_type": "stream",
          "text": [
            "LexRank Summarizer\n",
            " --------------------------------------------------------------------------------------------------------------------------------------------------------------------------------------------------------\n"
          ],
          "name": "stdout"
        },
        {
          "output_type": "execute_result",
          "data": {
            "text/html": [
              "<div>\n",
              "<style scoped>\n",
              "    .dataframe tbody tr th:only-of-type {\n",
              "        vertical-align: middle;\n",
              "    }\n",
              "\n",
              "    .dataframe tbody tr th {\n",
              "        vertical-align: top;\n",
              "    }\n",
              "\n",
              "    .dataframe thead th {\n",
              "        text-align: right;\n",
              "    }\n",
              "</style>\n",
              "<table border=\"1\" class=\"dataframe\">\n",
              "  <thead>\n",
              "    <tr style=\"text-align: right;\">\n",
              "      <th></th>\n",
              "      <th>Sentence count</th>\n",
              "      <th>Rogue 1</th>\n",
              "      <th>Rogue 2</th>\n",
              "    </tr>\n",
              "  </thead>\n",
              "  <tbody>\n",
              "    <tr>\n",
              "      <th>0</th>\n",
              "      <td>10.0</td>\n",
              "      <td>0.771008</td>\n",
              "      <td>0.642559</td>\n",
              "    </tr>\n",
              "    <tr>\n",
              "      <th>1</th>\n",
              "      <td>15.0</td>\n",
              "      <td>0.877579</td>\n",
              "      <td>0.775570</td>\n",
              "    </tr>\n",
              "    <tr>\n",
              "      <th>2</th>\n",
              "      <td>20.0</td>\n",
              "      <td>0.908889</td>\n",
              "      <td>0.819366</td>\n",
              "    </tr>\n",
              "    <tr>\n",
              "      <th>3</th>\n",
              "      <td>25.0</td>\n",
              "      <td>0.918418</td>\n",
              "      <td>0.833272</td>\n",
              "    </tr>\n",
              "  </tbody>\n",
              "</table>\n",
              "</div>"
            ],
            "text/plain": [
              "   Sentence count  Rogue 1    Rogue 2\n",
              "0            10.0  0.771008  0.642559\n",
              "1            15.0  0.877579  0.775570\n",
              "2            20.0  0.908889  0.819366\n",
              "3            25.0  0.918418  0.833272"
            ]
          },
          "metadata": {
            "tags": []
          },
          "execution_count": 12
        }
      ]
    },
    {
      "cell_type": "code",
      "metadata": {
        "id": "c4543405xaAs"
      },
      "source": [
        "textsum = Summarizer()\n",
        "textsum.summarizer(TextRankSummarizer(), articles_names, [10,15,20,25])"
      ],
      "execution_count": 13,
      "outputs": []
    },
    {
      "cell_type": "code",
      "metadata": {
        "colab": {
          "base_uri": "https://localhost:8080/",
          "height": 225
        },
        "id": "nMFSYsQFzbsm",
        "outputId": "9bc362c8-a202-4005-943a-9d87b84b57c7"
      },
      "source": [
        "print(\"TextRank Summarizer\\n\", \"-\"*200)\n",
        "\n",
        "scores1 = textsum.rouge1_score()\n",
        "scores2 = textsum.rouge2_score()\n",
        "\n",
        "df = pd.DataFrame([scores1.keys(), [score.mean(axis =0).Precision for score in scores1.values()]\n",
        "                  , [score.mean(axis =0).Precision for score in scores2.values()]],\n",
        "                  index = [\"Sentence count\",\"Rogue 1 \", \"Rogue 2\"]).transpose()\n",
        "df"
      ],
      "execution_count": 14,
      "outputs": [
        {
          "output_type": "stream",
          "text": [
            "TextRank Summarizer\n",
            " --------------------------------------------------------------------------------------------------------------------------------------------------------------------------------------------------------\n"
          ],
          "name": "stdout"
        },
        {
          "output_type": "execute_result",
          "data": {
            "text/html": [
              "<div>\n",
              "<style scoped>\n",
              "    .dataframe tbody tr th:only-of-type {\n",
              "        vertical-align: middle;\n",
              "    }\n",
              "\n",
              "    .dataframe tbody tr th {\n",
              "        vertical-align: top;\n",
              "    }\n",
              "\n",
              "    .dataframe thead th {\n",
              "        text-align: right;\n",
              "    }\n",
              "</style>\n",
              "<table border=\"1\" class=\"dataframe\">\n",
              "  <thead>\n",
              "    <tr style=\"text-align: right;\">\n",
              "      <th></th>\n",
              "      <th>Sentence count</th>\n",
              "      <th>Rogue 1</th>\n",
              "      <th>Rogue 2</th>\n",
              "    </tr>\n",
              "  </thead>\n",
              "  <tbody>\n",
              "    <tr>\n",
              "      <th>0</th>\n",
              "      <td>10.0</td>\n",
              "      <td>0.829362</td>\n",
              "      <td>0.717919</td>\n",
              "    </tr>\n",
              "    <tr>\n",
              "      <th>1</th>\n",
              "      <td>15.0</td>\n",
              "      <td>0.897595</td>\n",
              "      <td>0.804859</td>\n",
              "    </tr>\n",
              "    <tr>\n",
              "      <th>2</th>\n",
              "      <td>20.0</td>\n",
              "      <td>0.916411</td>\n",
              "      <td>0.830498</td>\n",
              "    </tr>\n",
              "    <tr>\n",
              "      <th>3</th>\n",
              "      <td>25.0</td>\n",
              "      <td>0.921196</td>\n",
              "      <td>0.837647</td>\n",
              "    </tr>\n",
              "  </tbody>\n",
              "</table>\n",
              "</div>"
            ],
            "text/plain": [
              "   Sentence count  Rogue 1    Rogue 2\n",
              "0            10.0  0.829362  0.717919\n",
              "1            15.0  0.897595  0.804859\n",
              "2            20.0  0.916411  0.830498\n",
              "3            25.0  0.921196  0.837647"
            ]
          },
          "metadata": {
            "tags": []
          },
          "execution_count": 14
        }
      ]
    },
    {
      "cell_type": "code",
      "metadata": {
        "id": "BI2XOkP11Dl6"
      },
      "source": [
        ""
      ],
      "execution_count": null,
      "outputs": []
    }
  ]
}